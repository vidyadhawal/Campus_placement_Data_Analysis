{
  "nbformat": 4,
  "nbformat_minor": 0,
  "metadata": {
    "colab": {
      "name": "Campus_Placement_Data_Analysis.ipynb",
      "provenance": [],
      "collapsed_sections": [],
      "authorship_tag": "ABX9TyNcTyAl2xJ9QRjQaD75jlF4",
      "include_colab_link": true
    },
    "kernelspec": {
      "name": "python3",
      "display_name": "Python 3"
    }
  },
  "cells": [
    {
      "cell_type": "markdown",
      "metadata": {
        "id": "view-in-github",
        "colab_type": "text"
      },
      "source": [
        "<a href=\"https://colab.research.google.com/github/vidyadhawal/Campus_placement_Data_Analysis/blob/master/Campus_Placement_Data_Analysis.ipynb\" target=\"_parent\"><img src=\"https://colab.research.google.com/assets/colab-badge.svg\" alt=\"Open In Colab\"/></a>"
      ]
    },
    {
      "cell_type": "markdown",
      "metadata": {
        "id": "eYtNuwG3sUim",
        "colab_type": "text"
      },
      "source": [
        "**Data Analysis and Machine Learning on Campus Placement Data**"
      ]
    },
    {
      "cell_type": "markdown",
      "metadata": {
        "id": "epb2OeWa28se",
        "colab_type": "text"
      },
      "source": [
        "The dataset I'm using is campus placement dataset from kaggle.\n",
        "This data set consists of Placement data of students in  campus. It includes secondary and higher secondary school percentage and specialization. It also includes degree specialization, type and Work experience and salary offers to the placed students"
      ]
    },
    {
      "cell_type": "markdown",
      "metadata": {
        "id": "qRfNOHNYtTEY",
        "colab_type": "text"
      },
      "source": [
        "**Data Analysis** is all about finding some intersting insights in the data and we can find more insight by asking more questions and here I'm going to find some interesting insights in the data by asking the following questions:"
      ]
    },
    {
      "cell_type": "markdown",
      "metadata": {
        "id": "Ee7TauFI3RU9",
        "colab_type": "text"
      },
      "source": [
        "1. To get placed in a company with high package which board should I choose (Central or State board) in 12th?\n",
        "2. To get placed in a company with high package which board should I choose (Central or State board) in 10th?\n",
        "3. Who is getting more placements girls or boys?\n",
        "4. Does percentage matters for one to get placed?\n",
        "5. Which degree specialization is much demanded by corporate?\n",
        "6. Play with the data conducting all statistical tests."
      ]
    },
    {
      "cell_type": "markdown",
      "metadata": {
        "id": "YozeQ7MorRmB",
        "colab_type": "text"
      },
      "source": [
        "A quick glance at the dataset description on Kaggle tells us that it has the following columns:\n",
        "\n",
        "* sl_no : Serial Number\n",
        "* gender : Gender- Male='M',Female='F'\n",
        "* ssc_p : Secondary Education percentage- 10th Grade\n",
        "* ssc_b : Board of Education- Central/ Others\n",
        "* hsc_p : Higher Secondary Education percentage- 12th Grade\n",
        "* hsc_b : Board of Education- Central/ Others\n",
        "* hsc_s : Specialization in Higher Secondary Education\n",
        "* degree_p : Degree Percentage\n",
        "* degree_t : Under Graduation(Degree type)- Field of degree education\n",
        "* workex : Work Experience\n",
        "* etest_p : Employability test percentage ( conducted by college)\n",
        "* specialisation : Post Graduation(MBA)- Specialization\n",
        "* mba_p : MBA percentage\n",
        "* status : Status of placement- Placed/Not placed\n",
        "* salary : Salary offered by corporate to candidates"
      ]
    },
    {
      "cell_type": "code",
      "metadata": {
        "id": "x-lszHSHy1kS",
        "colab_type": "code",
        "colab": {}
      },
      "source": [
        "from google.colab import files"
      ],
      "execution_count": 0,
      "outputs": []
    },
    {
      "cell_type": "code",
      "metadata": {
        "id": "MhM6tJbIy5Wm",
        "colab_type": "code",
        "outputId": "3829c2e4-1099-43b9-e27b-3fad707ae262",
        "colab": {
          "resources": {
            "http://localhost:8080/nbextensions/google.colab/files.js": {
              "data": "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",
              "ok": true,
              "headers": [
                [
                  "content-type",
                  "application/javascript"
                ]
              ],
              "status": 200,
              "status_text": ""
            }
          },
          "base_uri": "https://localhost:8080/",
          "height": 75
        }
      },
      "source": [
        "uploaded=files.upload()"
      ],
      "execution_count": 8,
      "outputs": [
        {
          "output_type": "display_data",
          "data": {
            "text/html": [
              "\n",
              "     <input type=\"file\" id=\"files-0fb87b8a-d557-46d7-acae-8372949290c4\" name=\"files[]\" multiple disabled />\n",
              "     <output id=\"result-0fb87b8a-d557-46d7-acae-8372949290c4\">\n",
              "      Upload widget is only available when the cell has been executed in the\n",
              "      current browser session. Please rerun this cell to enable.\n",
              "      </output>\n",
              "      <script src=\"/nbextensions/google.colab/files.js\"></script> "
            ],
            "text/plain": [
              "<IPython.core.display.HTML object>"
            ]
          },
          "metadata": {
            "tags": []
          }
        },
        {
          "output_type": "stream",
          "text": [
            "Saving Placement_Data_Full_Class.csv to Placement_Data_Full_Class.csv\n"
          ],
          "name": "stdout"
        }
      ]
    },
    {
      "cell_type": "code",
      "metadata": {
        "id": "rVQcuuVNX71a",
        "colab_type": "code",
        "colab": {}
      },
      "source": [
        "import warnings\n",
        "warnings.filterwarnings(\"ignore\")"
      ],
      "execution_count": 0,
      "outputs": []
    },
    {
      "cell_type": "code",
      "metadata": {
        "id": "ep3Brq2evIOU",
        "colab_type": "code",
        "colab": {}
      },
      "source": [
        "import pandas as pd\n",
        "import seaborn as sns\n",
        "import matplotlib.pyplot as plt\n",
        "from sklearn.naive_bayes import GaussianNB\n",
        "from sklearn.linear_model import LogisticRegression\n",
        "from sklearn.svm import SVC\n",
        "from sklearn.svm import LinearSVC\n",
        "from sklearn.tree import DecisionTreeClassifier\n",
        "from sklearn.ensemble import RandomForestClassifier\n",
        "from sklearn.neighbors import KNeighborsClassifier\n",
        "from sklearn.linear_model import SGDClassifier\n",
        "from xgboost import XGBClassifier\n",
        "import time\n",
        "from sklearn.feature_selection import RFE, f_regression\n",
        "from sklearn.preprocessing import MinMaxScaler\n",
        "from sklearn.linear_model import LinearRegression\n",
        "from sklearn.model_selection import cross_val_score\n",
        "from pprint import pprint\n",
        "from sklearn.model_selection import GridSearchCV\n",
        "from sklearn.metrics import accuracy_score"
      ],
      "execution_count": 0,
      "outputs": []
    },
    {
      "cell_type": "code",
      "metadata": {
        "id": "HTAd_GqWz7Ik",
        "colab_type": "code",
        "outputId": "060c09b6-e090-47bd-e099-ac8bb6765053",
        "colab": {
          "base_uri": "https://localhost:8080/",
          "height": 198
        }
      },
      "source": [
        "df=pd.read_csv(\"Placement_Data_Full_Class.csv\")\n",
        "df.head()"
      ],
      "execution_count": 132,
      "outputs": [
        {
          "output_type": "execute_result",
          "data": {
            "text/html": [
              "<div>\n",
              "<style scoped>\n",
              "    .dataframe tbody tr th:only-of-type {\n",
              "        vertical-align: middle;\n",
              "    }\n",
              "\n",
              "    .dataframe tbody tr th {\n",
              "        vertical-align: top;\n",
              "    }\n",
              "\n",
              "    .dataframe thead th {\n",
              "        text-align: right;\n",
              "    }\n",
              "</style>\n",
              "<table border=\"1\" class=\"dataframe\">\n",
              "  <thead>\n",
              "    <tr style=\"text-align: right;\">\n",
              "      <th></th>\n",
              "      <th>sl_no</th>\n",
              "      <th>gender</th>\n",
              "      <th>ssc_p</th>\n",
              "      <th>ssc_b</th>\n",
              "      <th>hsc_p</th>\n",
              "      <th>hsc_b</th>\n",
              "      <th>hsc_s</th>\n",
              "      <th>degree_p</th>\n",
              "      <th>degree_t</th>\n",
              "      <th>workex</th>\n",
              "      <th>etest_p</th>\n",
              "      <th>specialisation</th>\n",
              "      <th>mba_p</th>\n",
              "      <th>status</th>\n",
              "      <th>salary</th>\n",
              "    </tr>\n",
              "  </thead>\n",
              "  <tbody>\n",
              "    <tr>\n",
              "      <th>0</th>\n",
              "      <td>1</td>\n",
              "      <td>M</td>\n",
              "      <td>67.00</td>\n",
              "      <td>Others</td>\n",
              "      <td>91.00</td>\n",
              "      <td>Others</td>\n",
              "      <td>Commerce</td>\n",
              "      <td>58.00</td>\n",
              "      <td>Sci&amp;Tech</td>\n",
              "      <td>No</td>\n",
              "      <td>55.0</td>\n",
              "      <td>Mkt&amp;HR</td>\n",
              "      <td>58.80</td>\n",
              "      <td>Placed</td>\n",
              "      <td>270000.0</td>\n",
              "    </tr>\n",
              "    <tr>\n",
              "      <th>1</th>\n",
              "      <td>2</td>\n",
              "      <td>M</td>\n",
              "      <td>79.33</td>\n",
              "      <td>Central</td>\n",
              "      <td>78.33</td>\n",
              "      <td>Others</td>\n",
              "      <td>Science</td>\n",
              "      <td>77.48</td>\n",
              "      <td>Sci&amp;Tech</td>\n",
              "      <td>Yes</td>\n",
              "      <td>86.5</td>\n",
              "      <td>Mkt&amp;Fin</td>\n",
              "      <td>66.28</td>\n",
              "      <td>Placed</td>\n",
              "      <td>200000.0</td>\n",
              "    </tr>\n",
              "    <tr>\n",
              "      <th>2</th>\n",
              "      <td>3</td>\n",
              "      <td>M</td>\n",
              "      <td>65.00</td>\n",
              "      <td>Central</td>\n",
              "      <td>68.00</td>\n",
              "      <td>Central</td>\n",
              "      <td>Arts</td>\n",
              "      <td>64.00</td>\n",
              "      <td>Comm&amp;Mgmt</td>\n",
              "      <td>No</td>\n",
              "      <td>75.0</td>\n",
              "      <td>Mkt&amp;Fin</td>\n",
              "      <td>57.80</td>\n",
              "      <td>Placed</td>\n",
              "      <td>250000.0</td>\n",
              "    </tr>\n",
              "    <tr>\n",
              "      <th>3</th>\n",
              "      <td>4</td>\n",
              "      <td>M</td>\n",
              "      <td>56.00</td>\n",
              "      <td>Central</td>\n",
              "      <td>52.00</td>\n",
              "      <td>Central</td>\n",
              "      <td>Science</td>\n",
              "      <td>52.00</td>\n",
              "      <td>Sci&amp;Tech</td>\n",
              "      <td>No</td>\n",
              "      <td>66.0</td>\n",
              "      <td>Mkt&amp;HR</td>\n",
              "      <td>59.43</td>\n",
              "      <td>Not Placed</td>\n",
              "      <td>NaN</td>\n",
              "    </tr>\n",
              "    <tr>\n",
              "      <th>4</th>\n",
              "      <td>5</td>\n",
              "      <td>M</td>\n",
              "      <td>85.80</td>\n",
              "      <td>Central</td>\n",
              "      <td>73.60</td>\n",
              "      <td>Central</td>\n",
              "      <td>Commerce</td>\n",
              "      <td>73.30</td>\n",
              "      <td>Comm&amp;Mgmt</td>\n",
              "      <td>No</td>\n",
              "      <td>96.8</td>\n",
              "      <td>Mkt&amp;Fin</td>\n",
              "      <td>55.50</td>\n",
              "      <td>Placed</td>\n",
              "      <td>425000.0</td>\n",
              "    </tr>\n",
              "  </tbody>\n",
              "</table>\n",
              "</div>"
            ],
            "text/plain": [
              "   sl_no gender  ssc_p    ssc_b  ...  specialisation  mba_p      status    salary\n",
              "0      1      M  67.00   Others  ...          Mkt&HR  58.80      Placed  270000.0\n",
              "1      2      M  79.33  Central  ...         Mkt&Fin  66.28      Placed  200000.0\n",
              "2      3      M  65.00  Central  ...         Mkt&Fin  57.80      Placed  250000.0\n",
              "3      4      M  56.00  Central  ...          Mkt&HR  59.43  Not Placed       NaN\n",
              "4      5      M  85.80  Central  ...         Mkt&Fin  55.50      Placed  425000.0\n",
              "\n",
              "[5 rows x 15 columns]"
            ]
          },
          "metadata": {
            "tags": []
          },
          "execution_count": 132
        }
      ]
    },
    {
      "cell_type": "markdown",
      "metadata": {
        "id": "XLu03870s8f9",
        "colab_type": "text"
      },
      "source": [
        "#**Explonatory Data Analysis**"
      ]
    },
    {
      "cell_type": "code",
      "metadata": {
        "id": "5qIYOWyttOkd",
        "colab_type": "code",
        "outputId": "b700f187-9273-4008-fee6-fa4fcf2af237",
        "colab": {
          "base_uri": "https://localhost:8080/",
          "height": 391
        }
      },
      "source": [
        "df.info()"
      ],
      "execution_count": 0,
      "outputs": [
        {
          "output_type": "stream",
          "text": [
            "<class 'pandas.core.frame.DataFrame'>\n",
            "RangeIndex: 215 entries, 0 to 214\n",
            "Data columns (total 15 columns):\n",
            " #   Column          Non-Null Count  Dtype  \n",
            "---  ------          --------------  -----  \n",
            " 0   sl_no           215 non-null    int64  \n",
            " 1   gender          215 non-null    object \n",
            " 2   ssc_p           215 non-null    float64\n",
            " 3   ssc_b           215 non-null    object \n",
            " 4   hsc_p           215 non-null    float64\n",
            " 5   hsc_b           215 non-null    object \n",
            " 6   hsc_s           215 non-null    object \n",
            " 7   degree_p        215 non-null    float64\n",
            " 8   degree_t        215 non-null    object \n",
            " 9   workex          215 non-null    object \n",
            " 10  etest_p         215 non-null    float64\n",
            " 11  specialisation  215 non-null    object \n",
            " 12  mba_p           215 non-null    float64\n",
            " 13  status          215 non-null    object \n",
            " 14  salary          148 non-null    float64\n",
            "dtypes: float64(6), int64(1), object(8)\n",
            "memory usage: 25.3+ KB\n"
          ],
          "name": "stdout"
        }
      ]
    },
    {
      "cell_type": "code",
      "metadata": {
        "id": "_ZSXuTPl0Jfm",
        "colab_type": "code",
        "outputId": "005abfd9-bc81-4383-8a47-aa0f61743899",
        "colab": {
          "base_uri": "https://localhost:8080/",
          "height": 297
        }
      },
      "source": [
        "df.describe()"
      ],
      "execution_count": 0,
      "outputs": [
        {
          "output_type": "execute_result",
          "data": {
            "text/html": [
              "<div>\n",
              "<style scoped>\n",
              "    .dataframe tbody tr th:only-of-type {\n",
              "        vertical-align: middle;\n",
              "    }\n",
              "\n",
              "    .dataframe tbody tr th {\n",
              "        vertical-align: top;\n",
              "    }\n",
              "\n",
              "    .dataframe thead th {\n",
              "        text-align: right;\n",
              "    }\n",
              "</style>\n",
              "<table border=\"1\" class=\"dataframe\">\n",
              "  <thead>\n",
              "    <tr style=\"text-align: right;\">\n",
              "      <th></th>\n",
              "      <th>sl_no</th>\n",
              "      <th>ssc_p</th>\n",
              "      <th>hsc_p</th>\n",
              "      <th>degree_p</th>\n",
              "      <th>etest_p</th>\n",
              "      <th>mba_p</th>\n",
              "      <th>salary</th>\n",
              "    </tr>\n",
              "  </thead>\n",
              "  <tbody>\n",
              "    <tr>\n",
              "      <th>count</th>\n",
              "      <td>215.000000</td>\n",
              "      <td>215.000000</td>\n",
              "      <td>215.000000</td>\n",
              "      <td>215.000000</td>\n",
              "      <td>215.000000</td>\n",
              "      <td>215.000000</td>\n",
              "      <td>148.000000</td>\n",
              "    </tr>\n",
              "    <tr>\n",
              "      <th>mean</th>\n",
              "      <td>108.000000</td>\n",
              "      <td>67.303395</td>\n",
              "      <td>66.333163</td>\n",
              "      <td>66.370186</td>\n",
              "      <td>72.100558</td>\n",
              "      <td>62.278186</td>\n",
              "      <td>288655.405405</td>\n",
              "    </tr>\n",
              "    <tr>\n",
              "      <th>std</th>\n",
              "      <td>62.209324</td>\n",
              "      <td>10.827205</td>\n",
              "      <td>10.897509</td>\n",
              "      <td>7.358743</td>\n",
              "      <td>13.275956</td>\n",
              "      <td>5.833385</td>\n",
              "      <td>93457.452420</td>\n",
              "    </tr>\n",
              "    <tr>\n",
              "      <th>min</th>\n",
              "      <td>1.000000</td>\n",
              "      <td>40.890000</td>\n",
              "      <td>37.000000</td>\n",
              "      <td>50.000000</td>\n",
              "      <td>50.000000</td>\n",
              "      <td>51.210000</td>\n",
              "      <td>200000.000000</td>\n",
              "    </tr>\n",
              "    <tr>\n",
              "      <th>25%</th>\n",
              "      <td>54.500000</td>\n",
              "      <td>60.600000</td>\n",
              "      <td>60.900000</td>\n",
              "      <td>61.000000</td>\n",
              "      <td>60.000000</td>\n",
              "      <td>57.945000</td>\n",
              "      <td>240000.000000</td>\n",
              "    </tr>\n",
              "    <tr>\n",
              "      <th>50%</th>\n",
              "      <td>108.000000</td>\n",
              "      <td>67.000000</td>\n",
              "      <td>65.000000</td>\n",
              "      <td>66.000000</td>\n",
              "      <td>71.000000</td>\n",
              "      <td>62.000000</td>\n",
              "      <td>265000.000000</td>\n",
              "    </tr>\n",
              "    <tr>\n",
              "      <th>75%</th>\n",
              "      <td>161.500000</td>\n",
              "      <td>75.700000</td>\n",
              "      <td>73.000000</td>\n",
              "      <td>72.000000</td>\n",
              "      <td>83.500000</td>\n",
              "      <td>66.255000</td>\n",
              "      <td>300000.000000</td>\n",
              "    </tr>\n",
              "    <tr>\n",
              "      <th>max</th>\n",
              "      <td>215.000000</td>\n",
              "      <td>89.400000</td>\n",
              "      <td>97.700000</td>\n",
              "      <td>91.000000</td>\n",
              "      <td>98.000000</td>\n",
              "      <td>77.890000</td>\n",
              "      <td>940000.000000</td>\n",
              "    </tr>\n",
              "  </tbody>\n",
              "</table>\n",
              "</div>"
            ],
            "text/plain": [
              "            sl_no       ssc_p  ...       mba_p         salary\n",
              "count  215.000000  215.000000  ...  215.000000     148.000000\n",
              "mean   108.000000   67.303395  ...   62.278186  288655.405405\n",
              "std     62.209324   10.827205  ...    5.833385   93457.452420\n",
              "min      1.000000   40.890000  ...   51.210000  200000.000000\n",
              "25%     54.500000   60.600000  ...   57.945000  240000.000000\n",
              "50%    108.000000   67.000000  ...   62.000000  265000.000000\n",
              "75%    161.500000   75.700000  ...   66.255000  300000.000000\n",
              "max    215.000000   89.400000  ...   77.890000  940000.000000\n",
              "\n",
              "[8 rows x 7 columns]"
            ]
          },
          "metadata": {
            "tags": []
          },
          "execution_count": 131
        }
      ]
    },
    {
      "cell_type": "markdown",
      "metadata": {
        "id": "oGBC4gs6rx-0",
        "colab_type": "text"
      },
      "source": [
        "It seems that we have some big outliers in the salary. The mean is about 2.8 lakhs with a standard deviation of about 90,000 but we have some salary that is over 9 Lakhs, which is more than 6 standard deviations away from the mean!"
      ]
    },
    {
      "cell_type": "code",
      "metadata": {
        "id": "O00LJenp2cZ9",
        "colab_type": "code",
        "outputId": "d4fd142a-8b68-46db-ec1c-c97e7b541c58",
        "colab": {
          "base_uri": "https://localhost:8080/",
          "height": 308
        }
      },
      "source": [
        "df.isnull().sum()"
      ],
      "execution_count": 0,
      "outputs": [
        {
          "output_type": "execute_result",
          "data": {
            "text/plain": [
              "sl_no              0\n",
              "gender             0\n",
              "ssc_p              0\n",
              "ssc_b              0\n",
              "hsc_p              0\n",
              "hsc_b              0\n",
              "hsc_s              0\n",
              "degree_p           0\n",
              "degree_t           0\n",
              "workex             0\n",
              "etest_p            0\n",
              "specialisation     0\n",
              "mba_p              0\n",
              "status             0\n",
              "salary            67\n",
              "dtype: int64"
            ]
          },
          "metadata": {
            "tags": []
          },
          "execution_count": 27
        }
      ]
    },
    {
      "cell_type": "markdown",
      "metadata": {
        "id": "Z-FI7nkOsYDv",
        "colab_type": "text"
      },
      "source": [
        "Looks like we have some missing values in the \"salary column\". This is probably for the students who were not placed but let us just check to make sure that the students who are placed all have their salary listed."
      ]
    },
    {
      "cell_type": "code",
      "metadata": {
        "id": "fVLaYol7se8-",
        "colab_type": "code",
        "outputId": "bea635fd-ef14-422d-9b46-04cfbb01995b",
        "colab": {
          "base_uri": "https://localhost:8080/",
          "height": 35
        }
      },
      "source": [
        "# Check for missing salaries\n",
        "df.query(\"status == 'placed'\")[\"salary\"].isnull().any()"
      ],
      "execution_count": 0,
      "outputs": [
        {
          "output_type": "execute_result",
          "data": {
            "text/plain": [
              "False"
            ]
          },
          "metadata": {
            "tags": []
          },
          "execution_count": 89
        }
      ]
    },
    {
      "cell_type": "markdown",
      "metadata": {
        "id": "QI0U-eFHtKeW",
        "colab_type": "text"
      },
      "source": [
        "Looks like all the placed students have their salaries listed"
      ]
    },
    {
      "cell_type": "code",
      "metadata": {
        "id": "JT1aiarh9n1F",
        "colab_type": "code",
        "colab": {}
      },
      "source": [
        "df['salary'].fillna(0,inplace = True)"
      ],
      "execution_count": 0,
      "outputs": []
    },
    {
      "cell_type": "code",
      "metadata": {
        "id": "wp1OEvwwtpfC",
        "colab_type": "code",
        "outputId": "0652f14c-04ff-419d-8952-746e7f883748",
        "colab": {
          "base_uri": "https://localhost:8080/",
          "height": 505
        }
      },
      "source": [
        "#Checking for corelation among columns\n",
        "plt.subplots(figsize=(10,8))\n",
        "sns.heatmap(df.corr(),annot=True)"
      ],
      "execution_count": 0,
      "outputs": [
        {
          "output_type": "execute_result",
          "data": {
            "text/plain": [
              "<matplotlib.axes._subplots.AxesSubplot at 0x7ff5866d9080>"
            ]
          },
          "metadata": {
            "tags": []
          },
          "execution_count": 12
        },
        {
          "output_type": "display_data",
          "data": {
            "image/png": "[encoded data removed]",
            "text/plain": [
              "<Figure size 720x576 with 2 Axes>"
            ]
          },
          "metadata": {
            "tags": [],
            "needs_background": "light"
          }
        }
      ]
    },
    {
      "cell_type": "markdown",
      "metadata": {
        "id": "E14qkhO1uYPy",
        "colab_type": "text"
      },
      "source": [
        "From the above heatmap, there doesnt seem to be any significant correlations present in the data.\n",
        "\n",
        "We do however, see some weak correlation between the hsc_p, ssc_p and degree_p columns. But this is to be expected as a student who performed well in their 10th is likely to continue to work hard and perform well in their subsequent academic endeavours. The inverse may also be true.\n",
        "\n",
        "We do see some slight correlation between salary and mba_p and etest_p. While it makes intuitive sense to me that since the recruitment is for MBA graduates, their MBA scores and E-Test scores (Employability test) might have a correlation with their chances of getting placed or salary, the data on hand does not provide us with strong enough evidence to confirm or deny the same."
      ]
    },
    {
      "cell_type": "markdown",
      "metadata": {
        "id": "PJXF-OtO3qPE",
        "colab_type": "text"
      },
      "source": [
        "#***Data Visualization***\n",
        "\n",
        "Data visualization is the graphical representation of information and data. By using visual elements like charts, graphs, and maps, data visualization tools provide an accessible way to see and understand trends, outliers, and patterns in data.\n",
        "\n"
      ]
    },
    {
      "cell_type": "markdown",
      "metadata": {
        "id": "9rtKS5F2MQDC",
        "colab_type": "text"
      },
      "source": [
        "**Analyzing the Various Categorical Variables**\n",
        "\n",
        "Let's look at the proportion of students in the following categorical variables - gender; placement status; secondary and higher secondary school boards; higher secondary school, UG and PG specializations and work experience."
      ]
    },
    {
      "cell_type": "markdown",
      "metadata": {
        "id": "jWTx6ITfMcq9",
        "colab_type": "text"
      },
      "source": [
        "**Gender, Placement Status and Secondary/Higher Secondary School Board**"
      ]
    },
    {
      "cell_type": "code",
      "metadata": {
        "id": "b5Ag8pUxLhRm",
        "colab_type": "code",
        "outputId": "325f62a5-b7b0-4db7-e50d-da3a3b1e9f1a",
        "colab": {
          "base_uri": "https://localhost:8080/",
          "height": 715
        }
      },
      "source": [
        "fig, a1 = plt.subplots(2, 2,figsize=(16,12))\n",
        "sns.countplot(x = \"gender\", data = df, ax = a1[0,0])\n",
        "sns.countplot(x = \"status\", data = df, ax = a1[0,1])\n",
        "sns.countplot(x = \"ssc_b\", data = df, ax = a1[1,0])\n",
        "sns.countplot(x = \"hsc_b\", data = df, ax = a1[1,1])\n",
        "plt.show()"
      ],
      "execution_count": 0,
      "outputs": [
        {
          "output_type": "display_data",
          "data": {
            "image/png": "[encoded data removed]",
            "text/plain": [
              "<Figure size 1152x864 with 4 Axes>"
            ]
          },
          "metadata": {
            "tags": [],
            "needs_background": "light"
          }
        }
      ]
    },
    {
      "cell_type": "markdown",
      "metadata": {
        "id": "ww9L63HsLqQK",
        "colab_type": "text"
      },
      "source": [
        "There is a majority of male students in this degree. The university has a placement rate of 68.84%.\n",
        "\n",
        "Almost 54% of the students were enrolled in the Central Board when they were in secondary school. The percentage has risen to almost 61%, when they moved on to higher secondary school."
      ]
    },
    {
      "cell_type": "markdown",
      "metadata": {
        "id": "CgtQwuvlMj5x",
        "colab_type": "text"
      },
      "source": [
        "**Higher Secondary School/UG/MBA Specialisations and Work Experience**"
      ]
    },
    {
      "cell_type": "code",
      "metadata": {
        "id": "sHAWaexgMtIf",
        "colab_type": "code",
        "outputId": "0fe1500a-6915-443f-97cc-35a12a6e1a80",
        "colab": {
          "base_uri": "https://localhost:8080/",
          "height": 714
        }
      },
      "source": [
        "fig, a2 = plt.subplots(2, 2,figsize=(16,12))\n",
        "sns.countplot(x = \"hsc_s\", data = df, ax = a2[0,0])\n",
        "sns.countplot(x = \"degree_t\", data = df, ax = a2[0,1])\n",
        "sns.countplot(x = \"specialisation\", data = df, ax = a2[1,0])\n",
        "sns.countplot(x = \"workex\", data = df, ax = a2[1,1])\n",
        "plt.show()"
      ],
      "execution_count": 0,
      "outputs": [
        {
          "output_type": "display_data",
          "data": {
            "image/png": "[encoded data removed]",
            "text/plain": [
              "<Figure size 1152x864 with 4 Axes>"
            ]
          },
          "metadata": {
            "tags": [],
            "needs_background": "light"
          }
        }
      ]
    },
    {
      "cell_type": "markdown",
      "metadata": {
        "id": "FVSBR2nxM9vL",
        "colab_type": "text"
      },
      "source": [
        "Majority of the students were enrolled commerce or science when they were in higher secondary. Howevere, there is a notable rise in students who studied commerce and management, when they were undergraduates. It could be possible that these students have planned on pursuing MBA, which requires in-depth knowledge about finance and management.\n",
        "\n",
        "Two-thirds of the students have no work experience. 56% of the students enrolled in the Marketing and Finance, while the remaining have enrolled in Marketing and HR."
      ]
    },
    {
      "cell_type": "markdown",
      "metadata": {
        "id": "2DQa-h0W3ohY",
        "colab_type": "text"
      },
      "source": [
        "**Who is getting more placements girls or boys?**"
      ]
    },
    {
      "cell_type": "code",
      "metadata": {
        "id": "-FBakySD3t02",
        "colab_type": "code",
        "outputId": "f69b95de-c29a-4021-e0f3-a5a99af0110f",
        "colab": {
          "base_uri": "https://localhost:8080/",
          "height": 72
        }
      },
      "source": [
        "df.gender.value_counts()"
      ],
      "execution_count": 0,
      "outputs": [
        {
          "output_type": "execute_result",
          "data": {
            "text/plain": [
              "M    139\n",
              "F     76\n",
              "Name: gender, dtype: int64"
            ]
          },
          "metadata": {
            "tags": []
          },
          "execution_count": 29
        }
      ]
    },
    {
      "cell_type": "markdown",
      "metadata": {
        "id": "uLwH141A8wFB",
        "colab_type": "text"
      },
      "source": [
        "we have samples of 139 male students and 76 female students"
      ]
    },
    {
      "cell_type": "code",
      "metadata": {
        "id": "Gp6GVoJC0nTF",
        "colab_type": "code",
        "outputId": "911b8146-585d-4b81-ba9b-17de01a73b00",
        "colab": {
          "base_uri": "https://localhost:8080/",
          "height": 296
        }
      },
      "source": [
        "%matplotlib inline\n",
        "sns.countplot(\"gender\",hue=\"status\",data=df)"
      ],
      "execution_count": 0,
      "outputs": [
        {
          "output_type": "execute_result",
          "data": {
            "text/plain": [
              "<matplotlib.axes._subplots.AxesSubplot at 0x7f9451c8f198>"
            ]
          },
          "metadata": {
            "tags": []
          },
          "execution_count": 16
        },
        {
          "output_type": "display_data",
          "data": {
            "image/png": "[encoded data removed]",
            "text/plain": [
              "<Figure size 432x288 with 1 Axes>"
            ]
          },
          "metadata": {
            "tags": [],
            "needs_background": "light"
          }
        }
      ]
    },
    {
      "cell_type": "markdown",
      "metadata": {
        "id": "vvUzuX9988OF",
        "colab_type": "text"
      },
      "source": [
        "The Boys are getting more placements and the ratio of boys to girls(placements) is about 100:50, that can be seen from the plot above"
      ]
    },
    {
      "cell_type": "code",
      "metadata": {
        "id": "agIQBXJY26Dy",
        "colab_type": "code",
        "outputId": "e3ddf70c-8053-4572-e8b6-393e3ff1948a",
        "colab": {
          "base_uri": "https://localhost:8080/",
          "height": 311
        }
      },
      "source": [
        "sns.kdeplot(df.salary[df.gender==\"M\"])\n",
        "sns.kdeplot(df.salary[df.gender=='F'])\n",
        "plt.legend([\"Male\",\"Female\"])\n",
        "plt.xlabel(\"Salary\")"
      ],
      "execution_count": 0,
      "outputs": [
        {
          "output_type": "execute_result",
          "data": {
            "text/plain": [
              "Text(0.5, 0, 'Salary')"
            ]
          },
          "metadata": {
            "tags": []
          },
          "execution_count": 43
        },
        {
          "output_type": "display_data",
          "data": {
            "image/png": "[encoded data removed]",
            "text/plain": [
              "<Figure size 432x288 with 1 Axes>"
            ]
          },
          "metadata": {
            "tags": [],
            "needs_background": "light"
          }
        }
      ]
    },
    {
      "cell_type": "markdown",
      "metadata": {
        "id": "3yBCUbia9ahc",
        "colab_type": "text"
      },
      "source": [
        "Male students are offered slightly higher salary than female on an average"
      ]
    },
    {
      "cell_type": "code",
      "metadata": {
        "id": "KUTktzZxotTj",
        "colab_type": "code",
        "outputId": "d53bb812-6bd8-43f0-e071-fa5f220208e9",
        "colab": {
          "base_uri": "https://localhost:8080/",
          "height": 388
        }
      },
      "source": [
        "plt.figure(figsize=(10,6))\n",
        "sns.boxplot(\"salary\",\"gender\",data=df)\n",
        "plt.show()"
      ],
      "execution_count": 0,
      "outputs": [
        {
          "output_type": "display_data",
          "data": {
            "image/png": "[encoded data removed]",
            "text/plain": [
              "<Figure size 720x432 with 1 Axes>"
            ]
          },
          "metadata": {
            "tags": [],
            "needs_background": "light"
          }
        }
      ]
    },
    {
      "cell_type": "markdown",
      "metadata": {
        "id": "ArnIx9Mc9qwr",
        "colab_type": "text"
      },
      "source": [
        "From the above plot I can infer the following details:\n",
        "\n",
        "* The Range of salary is high for boys with the median of 2.8 Lakhs per annum\n",
        "* The Median salary for girls is 2.5 Lakhs per annum\n",
        "* The highest package is offered to a boy which is nearly 9.5 Lakhs per annum\n",
        "* The highest package offered for girls is 6.5 Lakhs per annum\n",
        "* Total number girls not placed are 30 and Total number of boys not placed are 40"
      ]
    },
    {
      "cell_type": "markdown",
      "metadata": {
        "id": "z6EnPqAwvYjB",
        "colab_type": "text"
      },
      "source": [
        "The Boys are getting more placements and the ratio of boys to girls(placements) is about 100:50"
      ]
    },
    {
      "cell_type": "markdown",
      "metadata": {
        "id": "UOzGJi4z-HDM",
        "colab_type": "text"
      },
      "source": [
        "######**Does Secondary Education affect placements?**\n"
      ]
    },
    {
      "cell_type": "code",
      "metadata": {
        "id": "pU2YW_dh8ckO",
        "colab_type": "code",
        "outputId": "b363160d-5878-4103-d889-bdf08a4a683d",
        "colab": {
          "base_uri": "https://localhost:8080/",
          "height": 283
        }
      },
      "source": [
        "sns.kdeplot(df.ssc_p[df.status==\"Placed\"])\n",
        "sns.kdeplot(df.ssc_p[df.status==\"Not Placed\"])\n",
        "plt.legend([\"Placed\",\"Not Placed\"])\n",
        "plt.xlabel(\"Secondary Education Percentage\")\n",
        "plt.show()"
      ],
      "execution_count": 0,
      "outputs": [
        {
          "output_type": "display_data",
          "data": {
            "image/png": "[encoded data removed]",
            "text/plain": [
              "<Figure size 432x288 with 1 Axes>"
            ]
          },
          "metadata": {
            "tags": [],
            "needs_background": "light"
          }
        }
      ]
    },
    {
      "cell_type": "markdown",
      "metadata": {
        "id": "C1XMrpABAn1m",
        "colab_type": "text"
      },
      "source": [
        "All students with Secondary Education Percenage below 50% are not placed.\n",
        "\n",
        "students with good secondary education percentage are placed on average."
      ]
    },
    {
      "cell_type": "markdown",
      "metadata": {
        "id": "E46XpyprvzkJ",
        "colab_type": "text"
      },
      "source": [
        "**To get placed in a company with high package which board should I choose (Central or State board) in 10th?**"
      ]
    },
    {
      "cell_type": "code",
      "metadata": {
        "id": "SvBksEKx-zWp",
        "colab_type": "code",
        "outputId": "184024cb-8641-4b81-fca9-295303c8b890",
        "colab": {
          "base_uri": "https://localhost:8080/",
          "height": 283
        }
      },
      "source": [
        "sns.countplot(\"ssc_b\",hue=\"status\",data=df)\n",
        "plt.show()"
      ],
      "execution_count": 0,
      "outputs": [
        {
          "output_type": "display_data",
          "data": {
            "image/png": "[encoded data removed]",
            "text/plain": [
              "<Figure size 432x288 with 1 Axes>"
            ]
          },
          "metadata": {
            "tags": [],
            "needs_background": "light"
          }
        }
      ]
    },
    {
      "cell_type": "markdown",
      "metadata": {
        "id": "z0-EutV0B_83",
        "colab_type": "text"
      },
      "source": [
        "Total number central board students not placed are 27 and Total number of other board student not placed are 37"
      ]
    },
    {
      "cell_type": "code",
      "metadata": {
        "id": "L3AaiQCAB1Cz",
        "colab_type": "code",
        "outputId": "ebe86ca5-a2f2-4b86-80e5-b5c641697c7b",
        "colab": {
          "base_uri": "https://localhost:8080/",
          "height": 392
        }
      },
      "source": [
        "plt.figure(figsize=(10,6))\n",
        "sns.boxplot(\"salary\",\"ssc_b\",data=df)\n",
        "plt.show()"
      ],
      "execution_count": 0,
      "outputs": [
        {
          "output_type": "display_data",
          "data": {
            "image/png": "[encoded data removed]",
            "text/plain": [
              "<Figure size 720x432 with 1 Axes>"
            ]
          },
          "metadata": {
            "tags": [],
            "needs_background": "light"
          }
        }
      ]
    },
    {
      "cell_type": "markdown",
      "metadata": {
        "id": "Zi_8Izi5CwWa",
        "colab_type": "text"
      },
      "source": [
        "From the above plot I can infer the following details:\n",
        "\n",
        "* The Range of salary is high for central board students with the median of 2.6 Lakhs per annum\n",
        "* The Median salary for other board students is 2.3 Lakhs per annum\n",
        "* The highest package is offered to a central board student which is nearly 10 Lakhs per annum and as per our previous finding the student is a boy\n",
        "* The highest package offered for other board students is 5 Lakhs per annum\n",
        "* Total number central board students not placed are 27 and Total number of other board student not placed are 37"
      ]
    },
    {
      "cell_type": "markdown",
      "metadata": {
        "id": "fyMJtkLJZbEh",
        "colab_type": "text"
      },
      "source": [
        "Better to choose central board but the ratio is 80:70 which infers thats both the board students are getting placed and ratio of student not getting placed is 37:27 here central board students are more, so the 10th board selection doesn't matters but if you want high package go for central board"
      ]
    },
    {
      "cell_type": "code",
      "metadata": {
        "id": "O21nifzbCaN-",
        "colab_type": "code",
        "outputId": "17ef6811-403c-44db-aeb2-675c53076238",
        "colab": {
          "base_uri": "https://localhost:8080/",
          "height": 283
        }
      },
      "source": [
        "sns.lineplot(\"ssc_p\",\"salary\",hue=\"ssc_b\",data=df)\n",
        "plt.show()"
      ],
      "execution_count": 0,
      "outputs": [
        {
          "output_type": "display_data",
          "data": {
            "image/png": "[encoded data removed]",
            "text/plain": [
              "<Figure size 432x288 with 1 Axes>"
            ]
          },
          "metadata": {
            "tags": [],
            "needs_background": "light"
          }
        }
      ]
    },
    {
      "cell_type": "markdown",
      "metadata": {
        "id": "DVGHQ7_cDdV2",
        "colab_type": "text"
      },
      "source": [
        "\n",
        "\n",
        "*   No Specific pattern(corealtion)between Secondary Education percentage and salary\n",
        "*   Board of Education is not affecting Salary\n",
        "\n",
        "\n"
      ]
    },
    {
      "cell_type": "markdown",
      "metadata": {
        "id": "rub6VDvcN60l",
        "colab_type": "text"
      },
      "source": [
        "###**Do Secondary School Test Scores Affect Placement?**"
      ]
    },
    {
      "cell_type": "code",
      "metadata": {
        "id": "lP7EyRx7OAlN",
        "colab_type": "code",
        "outputId": "e45ec178-d626-43a5-ebdb-87dce00d395e",
        "colab": {
          "base_uri": "https://localhost:8080/",
          "height": 279
        }
      },
      "source": [
        "plt.figure(figsize=(9,4))\n",
        "sns.boxplot(x = 'ssc_p', y = 'status', data = df, linewidth = 2.2)\n",
        "plt.show()"
      ],
      "execution_count": 0,
      "outputs": [
        {
          "output_type": "display_data",
          "data": {
            "image/png": "[encoded data removed]",
            "text/plain": [
              "<Figure size 648x288 with 1 Axes>"
            ]
          },
          "metadata": {
            "tags": [],
            "needs_background": "light"
          }
        }
      ]
    },
    {
      "cell_type": "code",
      "metadata": {
        "id": "Kt4pTczIOKbN",
        "colab_type": "code",
        "outputId": "22aba5ec-41c2-4386-cb1e-f7ab3c2fca5a",
        "colab": {
          "base_uri": "https://localhost:8080/",
          "height": 374
        }
      },
      "source": [
        "plt.figure(figsize=(8,6))\n",
        "sns.kdeplot(df['ssc_p'].loc[df['status']=='Placed'])\n",
        "sns.kdeplot(df['ssc_p'].loc[df['status']=='Not Placed'])\n",
        "plt.legend(['Placed', 'Not Placed'])\n",
        "plt.show()"
      ],
      "execution_count": 0,
      "outputs": [
        {
          "output_type": "display_data",
          "data": {
            "image/png": "[encoded data removed]",
            "text/plain": [
              "<Figure size 576x432 with 1 Axes>"
            ]
          },
          "metadata": {
            "tags": [],
            "needs_background": "light"
          }
        }
      ]
    },
    {
      "cell_type": "code",
      "metadata": {
        "id": "-K3cLbaVOVaS",
        "colab_type": "code",
        "outputId": "c327a14a-1425-45e3-db89-3f553a81f075",
        "colab": {
          "base_uri": "https://localhost:8080/",
          "height": 138
        }
      },
      "source": [
        "df.groupby('status').describe()['ssc_p']"
      ],
      "execution_count": 0,
      "outputs": [
        {
          "output_type": "execute_result",
          "data": {
            "text/html": [
              "<div>\n",
              "<style scoped>\n",
              "    .dataframe tbody tr th:only-of-type {\n",
              "        vertical-align: middle;\n",
              "    }\n",
              "\n",
              "    .dataframe tbody tr th {\n",
              "        vertical-align: top;\n",
              "    }\n",
              "\n",
              "    .dataframe thead th {\n",
              "        text-align: right;\n",
              "    }\n",
              "</style>\n",
              "<table border=\"1\" class=\"dataframe\">\n",
              "  <thead>\n",
              "    <tr style=\"text-align: right;\">\n",
              "      <th></th>\n",
              "      <th>count</th>\n",
              "      <th>mean</th>\n",
              "      <th>std</th>\n",
              "      <th>min</th>\n",
              "      <th>25%</th>\n",
              "      <th>50%</th>\n",
              "      <th>75%</th>\n",
              "      <th>max</th>\n",
              "    </tr>\n",
              "    <tr>\n",
              "      <th>status</th>\n",
              "      <th></th>\n",
              "      <th></th>\n",
              "      <th></th>\n",
              "      <th></th>\n",
              "      <th></th>\n",
              "      <th></th>\n",
              "      <th></th>\n",
              "      <th></th>\n",
              "    </tr>\n",
              "  </thead>\n",
              "  <tbody>\n",
              "    <tr>\n",
              "      <th>Not Placed</th>\n",
              "      <td>67.0</td>\n",
              "      <td>57.544030</td>\n",
              "      <td>8.394246</td>\n",
              "      <td>40.89</td>\n",
              "      <td>52.0</td>\n",
              "      <td>56.28</td>\n",
              "      <td>63.000</td>\n",
              "      <td>77.8</td>\n",
              "    </tr>\n",
              "    <tr>\n",
              "      <th>Placed</th>\n",
              "      <td>148.0</td>\n",
              "      <td>71.721486</td>\n",
              "      <td>8.715445</td>\n",
              "      <td>49.00</td>\n",
              "      <td>65.0</td>\n",
              "      <td>72.50</td>\n",
              "      <td>78.125</td>\n",
              "      <td>89.4</td>\n",
              "    </tr>\n",
              "  </tbody>\n",
              "</table>\n",
              "</div>"
            ],
            "text/plain": [
              "            count       mean       std    min   25%    50%     75%   max\n",
              "status                                                                  \n",
              "Not Placed   67.0  57.544030  8.394246  40.89  52.0  56.28  63.000  77.8\n",
              "Placed      148.0  71.721486  8.715445  49.00  65.0  72.50  78.125  89.4"
            ]
          },
          "metadata": {
            "tags": []
          },
          "execution_count": 32
        }
      ]
    },
    {
      "cell_type": "markdown",
      "metadata": {
        "id": "lbPQ3SUBOP_o",
        "colab_type": "text"
      },
      "source": [
        "Out of all the test scores, secondary school percentages seem to have the greatest influence on placements. Placed students have a higher average percentage and a higher median."
      ]
    },
    {
      "cell_type": "markdown",
      "metadata": {
        "id": "S8KRzwcuEIbl",
        "colab_type": "text"
      },
      "source": [
        "#####**Does Higher Secondary School percentage affect Placements?**"
      ]
    },
    {
      "cell_type": "code",
      "metadata": {
        "id": "EDeD5F0zC_Cf",
        "colab_type": "code",
        "outputId": "05a6dc3e-af8a-4f74-f4c6-39bf363ba498",
        "colab": {
          "base_uri": "https://localhost:8080/",
          "height": 269
        }
      },
      "source": [
        "sns.kdeplot(df.hsc_p[df.status==\"Placed\"])\n",
        "sns.kdeplot(df.hsc_p[df.status==\"Not Placed\"])\n",
        "plt.legend([\"Placed\",\"Not Placed\"])\n",
        "plt.show()"
      ],
      "execution_count": 0,
      "outputs": [
        {
          "output_type": "display_data",
          "data": {
            "image/png": "[encoded data removed]",
            "text/plain": [
              "<Figure size 432x288 with 1 Axes>"
            ]
          },
          "metadata": {
            "tags": [],
            "needs_background": "light"
          }
        }
      ]
    },
    {
      "cell_type": "markdown",
      "metadata": {
        "id": "r-vd16GvE5Qs",
        "colab_type": "text"
      },
      "source": [
        "\n",
        "\n",
        "*   More placements for percentage above 65%\n",
        "*   Percentage must be atleast 60 for chance of being placed.\n",
        "\n"
      ]
    },
    {
      "cell_type": "code",
      "metadata": {
        "id": "UnkFbmCgPF9Q",
        "colab_type": "code",
        "outputId": "7f5c9476-f917-413c-c1c6-a292304b4baa",
        "colab": {
          "base_uri": "https://localhost:8080/",
          "height": 280
        }
      },
      "source": [
        "plt.figure(figsize=(9,4))\n",
        "sns.boxplot(x = 'hsc_p', y = 'status', data = df, linewidth = 2.2)\n",
        "plt.show()"
      ],
      "execution_count": 0,
      "outputs": [
        {
          "output_type": "display_data",
          "data": {
            "image/png": "[encoded data removed]",
            "text/plain": [
              "<Figure size 648x288 with 1 Axes>"
            ]
          },
          "metadata": {
            "tags": [],
            "needs_background": "light"
          }
        }
      ]
    },
    {
      "cell_type": "code",
      "metadata": {
        "id": "OVeJ3ovTPL8g",
        "colab_type": "code",
        "outputId": "5f5853a5-4ebb-4449-c3c1-0e7ec79f829b",
        "colab": {
          "base_uri": "https://localhost:8080/",
          "height": 138
        }
      },
      "source": [
        "df.groupby('status').describe()['hsc_p']"
      ],
      "execution_count": 0,
      "outputs": [
        {
          "output_type": "execute_result",
          "data": {
            "text/html": [
              "<div>\n",
              "<style scoped>\n",
              "    .dataframe tbody tr th:only-of-type {\n",
              "        vertical-align: middle;\n",
              "    }\n",
              "\n",
              "    .dataframe tbody tr th {\n",
              "        vertical-align: top;\n",
              "    }\n",
              "\n",
              "    .dataframe thead th {\n",
              "        text-align: right;\n",
              "    }\n",
              "</style>\n",
              "<table border=\"1\" class=\"dataframe\">\n",
              "  <thead>\n",
              "    <tr style=\"text-align: right;\">\n",
              "      <th></th>\n",
              "      <th>count</th>\n",
              "      <th>mean</th>\n",
              "      <th>std</th>\n",
              "      <th>min</th>\n",
              "      <th>25%</th>\n",
              "      <th>50%</th>\n",
              "      <th>75%</th>\n",
              "      <th>max</th>\n",
              "    </tr>\n",
              "    <tr>\n",
              "      <th>status</th>\n",
              "      <th></th>\n",
              "      <th></th>\n",
              "      <th></th>\n",
              "      <th></th>\n",
              "      <th></th>\n",
              "      <th></th>\n",
              "      <th></th>\n",
              "      <th></th>\n",
              "    </tr>\n",
              "  </thead>\n",
              "  <tbody>\n",
              "    <tr>\n",
              "      <th>Not Placed</th>\n",
              "      <td>67.0</td>\n",
              "      <td>58.395522</td>\n",
              "      <td>9.914090</td>\n",
              "      <td>37.00</td>\n",
              "      <td>51.0</td>\n",
              "      <td>60.33</td>\n",
              "      <td>64.00</td>\n",
              "      <td>82.0</td>\n",
              "    </tr>\n",
              "    <tr>\n",
              "      <th>Placed</th>\n",
              "      <td>148.0</td>\n",
              "      <td>69.926554</td>\n",
              "      <td>9.329268</td>\n",
              "      <td>50.83</td>\n",
              "      <td>63.0</td>\n",
              "      <td>68.00</td>\n",
              "      <td>75.25</td>\n",
              "      <td>97.7</td>\n",
              "    </tr>\n",
              "  </tbody>\n",
              "</table>\n",
              "</div>"
            ],
            "text/plain": [
              "            count       mean       std    min   25%    50%    75%   max\n",
              "status                                                                 \n",
              "Not Placed   67.0  58.395522  9.914090  37.00  51.0  60.33  64.00  82.0\n",
              "Placed      148.0  69.926554  9.329268  50.83  63.0  68.00  75.25  97.7"
            ]
          },
          "metadata": {
            "tags": []
          },
          "execution_count": 34
        }
      ]
    },
    {
      "cell_type": "markdown",
      "metadata": {
        "id": "RrlVsn_aPUsX",
        "colab_type": "text"
      },
      "source": [
        "Students need to score more than 60% in higher secondary school to get placed. Placed students, in general, have a higher mean and median percentage."
      ]
    },
    {
      "cell_type": "markdown",
      "metadata": {
        "id": "bCVUej3XwaFr",
        "colab_type": "text"
      },
      "source": [
        "**To get placed in a company with high package which board should I choose (Central or State board) in 12th?**"
      ]
    },
    {
      "cell_type": "code",
      "metadata": {
        "id": "rGRLkmsdEsya",
        "colab_type": "code",
        "outputId": "f2a06baa-343f-47a8-ec50-a005b2cce216",
        "colab": {
          "base_uri": "https://localhost:8080/",
          "height": 283
        }
      },
      "source": [
        "sns.countplot(\"hsc_b\",hue=\"status\",data=df)\n",
        "plt.show()"
      ],
      "execution_count": 0,
      "outputs": [
        {
          "output_type": "display_data",
          "data": {
            "image/png": "[encoded data removed]",
            "text/plain": [
              "<Figure size 432x288 with 1 Axes>"
            ]
          },
          "metadata": {
            "tags": [],
            "needs_background": "light"
          }
        }
      ]
    },
    {
      "cell_type": "markdown",
      "metadata": {
        "id": "eHVb5LQgFpxV",
        "colab_type": "text"
      },
      "source": [
        "Total number central board students not placed are 25 and Total number of other board student not placed are 40"
      ]
    },
    {
      "cell_type": "code",
      "metadata": {
        "id": "b6JjQtuRFepX",
        "colab_type": "code",
        "outputId": "ef527019-4e90-4fe9-df93-52d32da229a2",
        "colab": {
          "base_uri": "https://localhost:8080/",
          "height": 283
        }
      },
      "source": [
        "sns.countplot(\"hsc_s\",hue=\"status\",data=df)\n",
        "plt.show()"
      ],
      "execution_count": 0,
      "outputs": [
        {
          "output_type": "display_data",
          "data": {
            "image/png": "[encoded data removed]",
            "text/plain": [
              "<Figure size 432x288 with 1 Axes>"
            ]
          },
          "metadata": {
            "tags": [],
            "needs_background": "light"
          }
        }
      ]
    },
    {
      "cell_type": "markdown",
      "metadata": {
        "id": "k48GN_4BGLst",
        "colab_type": "text"
      },
      "source": [
        "\n",
        "\n",
        "*   We have very less students with Art specialization\n",
        "*   Arond 2:1 placed:unplaced ratio for both Science and Commerce students\n",
        "\n"
      ]
    },
    {
      "cell_type": "code",
      "metadata": {
        "id": "1xBFboZiF5bF",
        "colab_type": "code",
        "outputId": "14b2f659-a3e3-43fb-d1d2-6b44244560c0",
        "colab": {
          "base_uri": "https://localhost:8080/",
          "height": 392
        }
      },
      "source": [
        "plt.figure(figsize=(10,6))\n",
        "sns.boxplot(\"salary\",\"hsc_b\",data=df)\n",
        "plt.show()"
      ],
      "execution_count": 0,
      "outputs": [
        {
          "output_type": "display_data",
          "data": {
            "image/png": "[encoded data removed]",
            "text/plain": [
              "<Figure size 720x432 with 1 Axes>"
            ]
          },
          "metadata": {
            "tags": [],
            "needs_background": "light"
          }
        }
      ]
    },
    {
      "cell_type": "markdown",
      "metadata": {
        "id": "vMrBtGEPHN7Z",
        "colab_type": "text"
      },
      "source": [
        "From the above plot I can infer the following details:\n",
        "\n",
        "* The Range of salary is high for central board students with the median of 2.5 Lakhs per annum\n",
        "* The Median salary for other board students is 2.6 Lakhs per annum\n",
        "* The highest package is offered to a central board student which is nearly 10 Lakhs per annum and as per our previous finding the student is a boy and also his 10th board is central board\n",
        "* The highest package offered for other board students is 7 Lakhs per annum\n"
      ]
    },
    {
      "cell_type": "markdown",
      "metadata": {
        "id": "UDuw_AGBaR7m",
        "colab_type": "text"
      },
      "source": [
        "Better to choose other board and ratio is 90:50 which infers thats the other board students are getting more placed and ratio of student not getting placed is 40:25 here central board students are less which infers that most of them will get offers.If you want high package go for central board"
      ]
    },
    {
      "cell_type": "code",
      "metadata": {
        "id": "HMKI_lUYG10a",
        "colab_type": "code",
        "outputId": "4790bbb6-8bd0-403c-fdd5-770c8de52e26",
        "colab": {
          "base_uri": "https://localhost:8080/",
          "height": 283
        }
      },
      "source": [
        "sns.lineplot(\"hsc_p\",\"salary\",hue=\"hsc_b\",data=df)\n",
        "plt.show()"
      ],
      "execution_count": 0,
      "outputs": [
        {
          "output_type": "display_data",
          "data": {
            "image/png": "[encoded data removed]",
            "text/plain": [
              "<Figure size 432x288 with 1 Axes>"
            ]
          },
          "metadata": {
            "tags": [],
            "needs_background": "light"
          }
        }
      ]
    },
    {
      "cell_type": "markdown",
      "metadata": {
        "id": "MxS1T8gjH4EF",
        "colab_type": "text"
      },
      "source": [
        "\n",
        "\n",
        "*   High salary for both central and othe\n",
        "*   High Salary for both high and low percentage\n",
        "*   Thus,both these feature doesnot affect salary.\n",
        "\n"
      ]
    },
    {
      "cell_type": "code",
      "metadata": {
        "id": "0GHSSljEz-L7",
        "colab_type": "code",
        "outputId": "433810b8-d3c3-4ca7-c7e7-bcc6771bbd8b",
        "colab": {
          "base_uri": "https://localhost:8080/",
          "height": 447
        }
      },
      "source": [
        "# Plotting placement rate by Stream\n",
        "df.groupby(\"hsc_s\").status.value_counts(normalize=True).unstack(1).plot.bar( title = \"Placement rate by HSC Stream\", figsize = (8,6)).set_xlabel(\"Stream\");"
      ],
      "execution_count": 0,
      "outputs": [
        {
          "output_type": "display_data",
          "data": {
            "image/png": "[encoded data removed]",
            "text/plain": [
              "<Figure size 576x432 with 1 Axes>"
            ]
          },
          "metadata": {
            "tags": [],
            "needs_background": "light"
          }
        }
      ]
    },
    {
      "cell_type": "markdown",
      "metadata": {
        "id": "EJVplt0q0_zZ",
        "colab_type": "text"
      },
      "source": [
        "Arts does seem to be lagging behind in placements but then again it has significantly fewer samples than commerce and science."
      ]
    },
    {
      "cell_type": "code",
      "metadata": {
        "id": "XKmpH5nrHckl",
        "colab_type": "code",
        "outputId": "ac326ed8-2221-4bc1-b25f-8f5a79ce3722",
        "colab": {
          "base_uri": "https://localhost:8080/",
          "height": 446
        }
      },
      "source": [
        "plt.figure(figsize=(10,7))\n",
        "sns.boxplot(\"salary\",\"hsc_s\",data=df)\n",
        "plt.show()"
      ],
      "execution_count": 0,
      "outputs": [
        {
          "output_type": "display_data",
          "data": {
            "image/png": "[encoded data removed]",
            "text/plain": [
              "<Figure size 720x504 with 1 Axes>"
            ]
          },
          "metadata": {
            "tags": [],
            "needs_background": "light"
          }
        }
      ]
    },
    {
      "cell_type": "markdown",
      "metadata": {
        "id": "bLHyZoGxI3F5",
        "colab_type": "text"
      },
      "source": [
        "\n",
        "*   We can't really say for sure due to only few samples of students with Arts major, but they aren't getting  good salaries \n",
        "*   Looks like both science and commeerse streams have about the same spread of salaries. There are some outliers in both cases and Science does seem to have an ever-so-slightly higher third quartile value.\n",
        "\n"
      ]
    },
    {
      "cell_type": "code",
      "metadata": {
        "id": "CbbwzBCYIwdB",
        "colab_type": "code",
        "outputId": "f00e26a7-0972-4746-cfc9-a5cd9faeec82",
        "colab": {
          "base_uri": "https://localhost:8080/",
          "height": 283
        }
      },
      "source": [
        "sns.lineplot(\"hsc_p\",\"salary\",hue=\"hsc_s\",data=df)\n",
        "plt.show()"
      ],
      "execution_count": 0,
      "outputs": [
        {
          "output_type": "display_data",
          "data": {
            "image/png": "[encoded data removed]",
            "text/plain": [
              "<Figure size 432x288 with 1 Axes>"
            ]
          },
          "metadata": {
            "tags": [],
            "needs_background": "light"
          }
        }
      ]
    },
    {
      "cell_type": "markdown",
      "metadata": {
        "id": "O51EitJDKN8p",
        "colab_type": "text"
      },
      "source": [
        "students with Art specialization surprisingly have low salary"
      ]
    },
    {
      "cell_type": "markdown",
      "metadata": {
        "id": "cgfgR3ubKjpy",
        "colab_type": "text"
      },
      "source": [
        "**Does Under Graduate percentage affect placements?**\n"
      ]
    },
    {
      "cell_type": "code",
      "metadata": {
        "id": "pFoXVtF9KAVx",
        "colab_type": "code",
        "outputId": "832ddeda-c42c-4825-a3c8-8f0380d96eda",
        "colab": {
          "base_uri": "https://localhost:8080/",
          "height": 286
        }
      },
      "source": [
        "sns.kdeplot(df.degree_p[ df.status==\"Placed\"])\n",
        "sns.kdeplot(df.degree_p[ df.status==\"Not Placed\"])\n",
        "plt.legend([\"Placed\", \"Not Placed\"])\n",
        "plt.xlabel(\"Under Graduate Percentage\")\n",
        "plt.show()"
      ],
      "execution_count": 0,
      "outputs": [
        {
          "output_type": "display_data",
          "data": {
            "image/png": "[encoded data removed]",
            "text/plain": [
              "<Figure size 432x288 with 1 Axes>"
            ]
          },
          "metadata": {
            "tags": [],
            "needs_background": "light"
          }
        }
      ]
    },
    {
      "cell_type": "code",
      "metadata": {
        "id": "buuP-416P-C1",
        "colab_type": "code",
        "outputId": "e950ef7e-6e2e-428a-8609-a6314dbf1d13",
        "colab": {
          "base_uri": "https://localhost:8080/",
          "height": 280
        }
      },
      "source": [
        "plt.figure(figsize=(9,4))\n",
        "sns.boxplot(x = 'degree_p', y = 'status', data = df, linewidth = 2.2)\n",
        "plt.show()"
      ],
      "execution_count": 0,
      "outputs": [
        {
          "output_type": "display_data",
          "data": {
            "image/png": "[encoded data removed]",
            "text/plain": [
              "<Figure size 648x288 with 1 Axes>"
            ]
          },
          "metadata": {
            "tags": [],
            "needs_background": "light"
          }
        }
      ]
    },
    {
      "cell_type": "markdown",
      "metadata": {
        "id": "5OSb_1mzWZ5-",
        "colab_type": "text"
      },
      "source": [
        "UG Percentage least 50% to get placement"
      ]
    },
    {
      "cell_type": "code",
      "metadata": {
        "id": "y4whKcVwQJTl",
        "colab_type": "code",
        "outputId": "5618a540-9456-45d4-b663-49544878f262",
        "colab": {
          "base_uri": "https://localhost:8080/",
          "height": 138
        }
      },
      "source": [
        "df.groupby('status').describe()['degree_p']"
      ],
      "execution_count": 0,
      "outputs": [
        {
          "output_type": "execute_result",
          "data": {
            "text/html": [
              "<div>\n",
              "<style scoped>\n",
              "    .dataframe tbody tr th:only-of-type {\n",
              "        vertical-align: middle;\n",
              "    }\n",
              "\n",
              "    .dataframe tbody tr th {\n",
              "        vertical-align: top;\n",
              "    }\n",
              "\n",
              "    .dataframe thead th {\n",
              "        text-align: right;\n",
              "    }\n",
              "</style>\n",
              "<table border=\"1\" class=\"dataframe\">\n",
              "  <thead>\n",
              "    <tr style=\"text-align: right;\">\n",
              "      <th></th>\n",
              "      <th>count</th>\n",
              "      <th>mean</th>\n",
              "      <th>std</th>\n",
              "      <th>min</th>\n",
              "      <th>25%</th>\n",
              "      <th>50%</th>\n",
              "      <th>75%</th>\n",
              "      <th>max</th>\n",
              "    </tr>\n",
              "    <tr>\n",
              "      <th>status</th>\n",
              "      <th></th>\n",
              "      <th></th>\n",
              "      <th></th>\n",
              "      <th></th>\n",
              "      <th></th>\n",
              "      <th></th>\n",
              "      <th></th>\n",
              "      <th></th>\n",
              "    </tr>\n",
              "  </thead>\n",
              "  <tbody>\n",
              "    <tr>\n",
              "      <th>Not Placed</th>\n",
              "      <td>67.0</td>\n",
              "      <td>61.134179</td>\n",
              "      <td>6.365825</td>\n",
              "      <td>50.0</td>\n",
              "      <td>57.0</td>\n",
              "      <td>61.0</td>\n",
              "      <td>65.0000</td>\n",
              "      <td>79.0</td>\n",
              "    </tr>\n",
              "    <tr>\n",
              "      <th>Placed</th>\n",
              "      <td>148.0</td>\n",
              "      <td>68.740541</td>\n",
              "      <td>6.518087</td>\n",
              "      <td>56.0</td>\n",
              "      <td>65.0</td>\n",
              "      <td>68.0</td>\n",
              "      <td>72.4225</td>\n",
              "      <td>91.0</td>\n",
              "    </tr>\n",
              "  </tbody>\n",
              "</table>\n",
              "</div>"
            ],
            "text/plain": [
              "            count       mean       std   min   25%   50%      75%   max\n",
              "status                                                                 \n",
              "Not Placed   67.0  61.134179  6.365825  50.0  57.0  61.0  65.0000  79.0\n",
              "Placed      148.0  68.740541  6.518087  56.0  65.0  68.0  72.4225  91.0"
            ]
          },
          "metadata": {
            "tags": []
          },
          "execution_count": 36
        }
      ]
    },
    {
      "cell_type": "markdown",
      "metadata": {
        "id": "JfS5Oro8QQP2",
        "colab_type": "text"
      },
      "source": [
        "There is clear indication that UG degree scores have a relatively greater influence on placement, even if there is an overlap in both graphs. Students need to score more than 50% in their UG degree to get placed. Placed students, in general, have a higher average percentage."
      ]
    },
    {
      "cell_type": "code",
      "metadata": {
        "id": "0r-w_4A6K9IM",
        "colab_type": "code",
        "outputId": "792c826c-1f3b-455d-a56b-8b9f18bcfedb",
        "colab": {
          "base_uri": "https://localhost:8080/",
          "height": 283
        }
      },
      "source": [
        "sns.countplot(\"degree_t\",hue=\"status\",data=df)\n",
        "plt.show()"
      ],
      "execution_count": 0,
      "outputs": [
        {
          "output_type": "display_data",
          "data": {
            "image/png": "[encoded data removed]",
            "text/plain": [
              "<Figure size 432x288 with 1 Axes>"
            ]
          },
          "metadata": {
            "tags": [],
            "needs_background": "light"
          }
        }
      ]
    },
    {
      "cell_type": "markdown",
      "metadata": {
        "id": "0TyquVnJRm7R",
        "colab_type": "text"
      },
      "source": [
        "##**Salaries Categorized by Higher Secondary School Specialisation**"
      ]
    },
    {
      "cell_type": "code",
      "metadata": {
        "id": "v29sNwg4Laal",
        "colab_type": "code",
        "outputId": "fbc4a025-45c5-4c11-aadf-1ae20c183e07",
        "colab": {
          "base_uri": "https://localhost:8080/",
          "height": 409
        }
      },
      "source": [
        "plt.figure(figsize=(10,6))\n",
        "sns.boxplot(\"salary\",\"degree_t\",data=df)"
      ],
      "execution_count": 0,
      "outputs": [
        {
          "output_type": "execute_result",
          "data": {
            "text/plain": [
              "<matplotlib.axes._subplots.AxesSubplot at 0x7f610aea43c8>"
            ]
          },
          "metadata": {
            "tags": []
          },
          "execution_count": 72
        },
        {
          "output_type": "display_data",
          "data": {
            "image/png": "[encoded data removed]",
            "text/plain": [
              "<Figure size 720x432 with 1 Axes>"
            ]
          },
          "metadata": {
            "tags": [],
            "needs_background": "light"
          }
        }
      ]
    },
    {
      "cell_type": "markdown",
      "metadata": {
        "id": "mBNVpkLtZSi0",
        "colab_type": "text"
      },
      "source": [
        "Science & Tech students getting more salary on average"
      ]
    },
    {
      "cell_type": "code",
      "metadata": {
        "id": "PBjcuK--RvcL",
        "colab_type": "code",
        "outputId": "a7713d4b-7609-44d2-dcbd-0b212443281d",
        "colab": {
          "base_uri": "https://localhost:8080/",
          "height": 168
        }
      },
      "source": [
        "df.groupby('hsc_s').describe()['salary']"
      ],
      "execution_count": 0,
      "outputs": [
        {
          "output_type": "execute_result",
          "data": {
            "text/html": [
              "<div>\n",
              "<style scoped>\n",
              "    .dataframe tbody tr th:only-of-type {\n",
              "        vertical-align: middle;\n",
              "    }\n",
              "\n",
              "    .dataframe tbody tr th {\n",
              "        vertical-align: top;\n",
              "    }\n",
              "\n",
              "    .dataframe thead th {\n",
              "        text-align: right;\n",
              "    }\n",
              "</style>\n",
              "<table border=\"1\" class=\"dataframe\">\n",
              "  <thead>\n",
              "    <tr style=\"text-align: right;\">\n",
              "      <th></th>\n",
              "      <th>count</th>\n",
              "      <th>mean</th>\n",
              "      <th>std</th>\n",
              "      <th>min</th>\n",
              "      <th>25%</th>\n",
              "      <th>50%</th>\n",
              "      <th>75%</th>\n",
              "      <th>max</th>\n",
              "    </tr>\n",
              "    <tr>\n",
              "      <th>hsc_s</th>\n",
              "      <th></th>\n",
              "      <th></th>\n",
              "      <th></th>\n",
              "      <th></th>\n",
              "      <th></th>\n",
              "      <th></th>\n",
              "      <th></th>\n",
              "      <th></th>\n",
              "    </tr>\n",
              "  </thead>\n",
              "  <tbody>\n",
              "    <tr>\n",
              "      <th>Arts</th>\n",
              "      <td>6.0</td>\n",
              "      <td>248666.666667</td>\n",
              "      <td>26005.127699</td>\n",
              "      <td>230000.0</td>\n",
              "      <td>236000.0</td>\n",
              "      <td>238000.0</td>\n",
              "      <td>247500.0</td>\n",
              "      <td>300000.0</td>\n",
              "    </tr>\n",
              "    <tr>\n",
              "      <th>Commerce</th>\n",
              "      <td>79.0</td>\n",
              "      <td>287417.721519</td>\n",
              "      <td>100015.333132</td>\n",
              "      <td>200000.0</td>\n",
              "      <td>240000.0</td>\n",
              "      <td>265000.0</td>\n",
              "      <td>300000.0</td>\n",
              "      <td>940000.0</td>\n",
              "    </tr>\n",
              "    <tr>\n",
              "      <th>Science</th>\n",
              "      <td>63.0</td>\n",
              "      <td>294015.873016</td>\n",
              "      <td>88790.709348</td>\n",
              "      <td>200000.0</td>\n",
              "      <td>240000.0</td>\n",
              "      <td>260000.0</td>\n",
              "      <td>310000.0</td>\n",
              "      <td>690000.0</td>\n",
              "    </tr>\n",
              "  </tbody>\n",
              "</table>\n",
              "</div>"
            ],
            "text/plain": [
              "          count           mean            std  ...       50%       75%       max\n",
              "hsc_s                                          ...                              \n",
              "Arts        6.0  248666.666667   26005.127699  ...  238000.0  247500.0  300000.0\n",
              "Commerce   79.0  287417.721519  100015.333132  ...  265000.0  300000.0  940000.0\n",
              "Science    63.0  294015.873016   88790.709348  ...  260000.0  310000.0  690000.0\n",
              "\n",
              "[3 rows x 8 columns]"
            ]
          },
          "metadata": {
            "tags": []
          },
          "execution_count": 39
        }
      ]
    },
    {
      "cell_type": "markdown",
      "metadata": {
        "id": "AGTVlu-lR0ET",
        "colab_type": "text"
      },
      "source": [
        "Arts students have been offered the worst salary packages out of the bunch. The range of salaries offered to science students is larger. Highest salary packages offered are ₹9,40,000 for a commerce student, ₹6,90,000 for a science student and ₹3,00,000 for an arts student."
      ]
    },
    {
      "cell_type": "code",
      "metadata": {
        "id": "H3BIhJrPY3Cw",
        "colab_type": "code",
        "outputId": "fae12cbf-dfd6-47a8-8d27-16e106fca447",
        "colab": {
          "base_uri": "https://localhost:8080/",
          "height": 283
        }
      },
      "source": [
        "sns.lineplot(\"degree_p\", \"salary\", hue=\"degree_t\", data=df)\n",
        "plt.show()"
      ],
      "execution_count": 0,
      "outputs": [
        {
          "output_type": "display_data",
          "data": {
            "image/png": "[encoded data removed]",
            "text/plain": [
              "<Figure size 432x288 with 1 Axes>"
            ]
          },
          "metadata": {
            "tags": [],
            "needs_background": "light"
          }
        }
      ]
    },
    {
      "cell_type": "markdown",
      "metadata": {
        "id": "XTSLmXugcWV_",
        "colab_type": "text"
      },
      "source": [
        "***Feature: workex (Work Experience)***"
      ]
    },
    {
      "cell_type": "markdown",
      "metadata": {
        "id": "N9NBimphckgR",
        "colab_type": "text"
      },
      "source": [
        "**Does Work Experience affect placements?**"
      ]
    },
    {
      "cell_type": "code",
      "metadata": {
        "id": "Cs03B6Cqa3Pu",
        "colab_type": "code",
        "outputId": "e812387d-62a0-46db-9426-3f9168f08ab6",
        "colab": {
          "base_uri": "https://localhost:8080/",
          "height": 283
        }
      },
      "source": [
        "sns.countplot(\"workex\",hue=\"status\",data=df)\n",
        "plt.show()"
      ],
      "execution_count": 0,
      "outputs": [
        {
          "output_type": "display_data",
          "data": {
            "image/png": "[encoded data removed]",
            "text/plain": [
              "<Figure size 432x288 with 1 Axes>"
            ]
          },
          "metadata": {
            "tags": [],
            "needs_background": "light"
          }
        }
      ]
    },
    {
      "cell_type": "markdown",
      "metadata": {
        "id": "1lYJPkNDdWLo",
        "colab_type": "text"
      },
      "source": [
        "This affects Placement. Very few students with work experience not getting placed!"
      ]
    },
    {
      "cell_type": "code",
      "metadata": {
        "id": "vi2z_ltuc2N_",
        "colab_type": "code",
        "outputId": "e99f2a20-0d6f-42a7-b33e-62173e7216f5",
        "colab": {
          "base_uri": "https://localhost:8080/",
          "height": 446
        }
      },
      "source": [
        "plt.figure(figsize=(10,7))\n",
        "sns.boxplot(\"salary\",\"workex\",data=df)\n",
        "plt.show()"
      ],
      "execution_count": 0,
      "outputs": [
        {
          "output_type": "display_data",
          "data": {
            "image/png": "[encoded data removed]",
            "text/plain": [
              "<Figure size 720x504 with 1 Axes>"
            ]
          },
          "metadata": {
            "tags": [],
            "needs_background": "light"
          }
        }
      ]
    },
    {
      "cell_type": "markdown",
      "metadata": {
        "id": "7nd5ytfrdyUb",
        "colab_type": "text"
      },
      "source": [
        "\n",
        "*   Outliers (High salary than average) on both end but students with experience getting dream jobs\n",
        "*   Average salary as well as base salary high for students with work experience.\n",
        "* Having work experience makes you more valuable material for companies, and you can get a better salary.\n",
        "\n"
      ]
    },
    {
      "cell_type": "markdown",
      "metadata": {
        "id": "-hS-85jmHIX2",
        "colab_type": "text"
      },
      "source": [
        "##**Do Employability Test Scores Affect Placement?**"
      ]
    },
    {
      "cell_type": "code",
      "metadata": {
        "id": "xO0-z7tydnrt",
        "colab_type": "code",
        "outputId": "e4958fc5-498c-4147-d8e0-f23e8fcaabb9",
        "colab": {
          "base_uri": "https://localhost:8080/",
          "height": 279
        }
      },
      "source": [
        "sns.kdeplot(df.etest_p[df.status==\"Placed\"])\n",
        "sns.kdeplot(df.etest_p[df.status==\"Not Placed\"])\n",
        "plt.legend([\"Placed\",\"Not Placed\"])\n",
        "plt.xlabel(\"Employability test percentage\")\n",
        "plt.show()"
      ],
      "execution_count": 0,
      "outputs": [
        {
          "output_type": "display_data",
          "data": {
            "image/png": "[encoded data removed]",
            "text/plain": [
              "<Figure size 432x288 with 1 Axes>"
            ]
          },
          "metadata": {
            "tags": [],
            "needs_background": "light"
          }
        }
      ]
    },
    {
      "cell_type": "code",
      "metadata": {
        "id": "Sw1RYzS-HWsS",
        "colab_type": "code",
        "outputId": "ed2b012c-04e7-44f9-cd23-58dfdc594ed9",
        "colab": {
          "base_uri": "https://localhost:8080/",
          "height": 280
        }
      },
      "source": [
        "plt.figure(figsize=(9,4))\n",
        "sns.boxplot(x=\"etest_p\",y=\"status\",data=df)\n",
        "plt.show()"
      ],
      "execution_count": 0,
      "outputs": [
        {
          "output_type": "display_data",
          "data": {
            "image/png": "[encoded data removed]",
            "text/plain": [
              "<Figure size 648x288 with 1 Axes>"
            ]
          },
          "metadata": {
            "tags": [],
            "needs_background": "light"
          }
        }
      ]
    },
    {
      "cell_type": "code",
      "metadata": {
        "id": "rX2wMSpEITQ4",
        "colab_type": "code",
        "outputId": "83e8de8c-1b83-45fc-d2c4-e89c523c1a8b",
        "colab": {
          "base_uri": "https://localhost:8080/",
          "height": 138
        }
      },
      "source": [
        "df.groupby(\"status\").describe()['etest_p']"
      ],
      "execution_count": 0,
      "outputs": [
        {
          "output_type": "execute_result",
          "data": {
            "text/html": [
              "<div>\n",
              "<style scoped>\n",
              "    .dataframe tbody tr th:only-of-type {\n",
              "        vertical-align: middle;\n",
              "    }\n",
              "\n",
              "    .dataframe tbody tr th {\n",
              "        vertical-align: top;\n",
              "    }\n",
              "\n",
              "    .dataframe thead th {\n",
              "        text-align: right;\n",
              "    }\n",
              "</style>\n",
              "<table border=\"1\" class=\"dataframe\">\n",
              "  <thead>\n",
              "    <tr style=\"text-align: right;\">\n",
              "      <th></th>\n",
              "      <th>count</th>\n",
              "      <th>mean</th>\n",
              "      <th>std</th>\n",
              "      <th>min</th>\n",
              "      <th>25%</th>\n",
              "      <th>50%</th>\n",
              "      <th>75%</th>\n",
              "      <th>max</th>\n",
              "    </tr>\n",
              "    <tr>\n",
              "      <th>status</th>\n",
              "      <th></th>\n",
              "      <th></th>\n",
              "      <th></th>\n",
              "      <th></th>\n",
              "      <th></th>\n",
              "      <th></th>\n",
              "      <th></th>\n",
              "      <th></th>\n",
              "    </tr>\n",
              "  </thead>\n",
              "  <tbody>\n",
              "    <tr>\n",
              "      <th>Not Placed</th>\n",
              "      <td>67.0</td>\n",
              "      <td>69.587910</td>\n",
              "      <td>11.930687</td>\n",
              "      <td>50.0</td>\n",
              "      <td>60.0</td>\n",
              "      <td>67.0</td>\n",
              "      <td>76.5</td>\n",
              "      <td>97.0</td>\n",
              "    </tr>\n",
              "    <tr>\n",
              "      <th>Placed</th>\n",
              "      <td>148.0</td>\n",
              "      <td>73.238041</td>\n",
              "      <td>13.729333</td>\n",
              "      <td>50.0</td>\n",
              "      <td>60.0</td>\n",
              "      <td>72.0</td>\n",
              "      <td>85.0</td>\n",
              "      <td>98.0</td>\n",
              "    </tr>\n",
              "  </tbody>\n",
              "</table>\n",
              "</div>"
            ],
            "text/plain": [
              "            count       mean        std   min   25%   50%   75%   max\n",
              "status                                                               \n",
              "Not Placed   67.0  69.587910  11.930687  50.0  60.0  67.0  76.5  97.0\n",
              "Placed      148.0  73.238041  13.729333  50.0  60.0  72.0  85.0  98.0"
            ]
          },
          "metadata": {
            "tags": []
          },
          "execution_count": 26
        }
      ]
    },
    {
      "cell_type": "markdown",
      "metadata": {
        "id": "q-Jxv8vNI5n1",
        "colab_type": "text"
      },
      "source": [
        "The employability percentages for placed students have a higher median and average. The IQR is higher for the placed students. However, students with similar employability percentages have faced different outcomes in terms of placements. The employability tests do not seem like a clear indicator for placements, as the KDE plot above shows a major overlap of employability test percentage"
      ]
    },
    {
      "cell_type": "markdown",
      "metadata": {
        "id": "-YzB65nd-Xtx",
        "colab_type": "text"
      },
      "source": [
        "###**Which degree and MBA specialization has the highest Salary?**"
      ]
    },
    {
      "cell_type": "code",
      "metadata": {
        "id": "Hea2t--zemxj",
        "colab_type": "code",
        "outputId": "b6bc1c3b-f5b9-4694-bf00-a871e4a68dc2",
        "colab": {
          "base_uri": "https://localhost:8080/",
          "height": 283
        }
      },
      "source": [
        "sns.countplot(\"specialisation\", hue=\"status\", data=df)\n",
        "plt.show()"
      ],
      "execution_count": 0,
      "outputs": [
        {
          "output_type": "display_data",
          "data": {
            "image/png": "[encoded data removed]",
            "text/plain": [
              "<Figure size 432x288 with 1 Axes>"
            ]
          },
          "metadata": {
            "tags": [],
            "needs_background": "light"
          }
        }
      ]
    },
    {
      "cell_type": "markdown",
      "metadata": {
        "id": "cswYKkAxgLYI",
        "colab_type": "text"
      },
      "source": [
        "This feature affects Placement status.\n",
        "Comparitively very low not-placed students in Mkt&Fin Section"
      ]
    },
    {
      "cell_type": "markdown",
      "metadata": {
        "id": "_1WB9qDPQzn-",
        "colab_type": "text"
      },
      "source": [
        "##**Salaries Categorized by MBA Specialization**"
      ]
    },
    {
      "cell_type": "code",
      "metadata": {
        "id": "Ynw4AoTbf5JG",
        "colab_type": "code",
        "outputId": "8db36790-d7a5-427e-cebc-b197609335f8",
        "colab": {
          "base_uri": "https://localhost:8080/",
          "height": 392
        }
      },
      "source": [
        "plt.figure(figsize =(18,6))\n",
        "sns.boxplot(\"salary\", \"specialisation\", data=df)\n",
        "plt.show()"
      ],
      "execution_count": 0,
      "outputs": [
        {
          "output_type": "display_data",
          "data": {
            "image/png": "[encoded data removed]",
            "text/plain": [
              "<Figure size 1296x432 with 1 Axes>"
            ]
          },
          "metadata": {
            "tags": [],
            "needs_background": "light"
          }
        }
      ]
    },
    {
      "cell_type": "code",
      "metadata": {
        "id": "FLYSOLDTQ95m",
        "colab_type": "code",
        "outputId": "89e086fe-86cc-46ef-e2c5-d3190e30b2b2",
        "colab": {
          "base_uri": "https://localhost:8080/",
          "height": 138
        }
      },
      "source": [
        "df.groupby('specialisation').describe()['salary']"
      ],
      "execution_count": 0,
      "outputs": [
        {
          "output_type": "execute_result",
          "data": {
            "text/html": [
              "<div>\n",
              "<style scoped>\n",
              "    .dataframe tbody tr th:only-of-type {\n",
              "        vertical-align: middle;\n",
              "    }\n",
              "\n",
              "    .dataframe tbody tr th {\n",
              "        vertical-align: top;\n",
              "    }\n",
              "\n",
              "    .dataframe thead th {\n",
              "        text-align: right;\n",
              "    }\n",
              "</style>\n",
              "<table border=\"1\" class=\"dataframe\">\n",
              "  <thead>\n",
              "    <tr style=\"text-align: right;\">\n",
              "      <th></th>\n",
              "      <th>count</th>\n",
              "      <th>mean</th>\n",
              "      <th>std</th>\n",
              "      <th>min</th>\n",
              "      <th>25%</th>\n",
              "      <th>50%</th>\n",
              "      <th>75%</th>\n",
              "      <th>max</th>\n",
              "    </tr>\n",
              "    <tr>\n",
              "      <th>specialisation</th>\n",
              "      <th></th>\n",
              "      <th></th>\n",
              "      <th></th>\n",
              "      <th></th>\n",
              "      <th></th>\n",
              "      <th></th>\n",
              "      <th></th>\n",
              "      <th></th>\n",
              "    </tr>\n",
              "  </thead>\n",
              "  <tbody>\n",
              "    <tr>\n",
              "      <th>Mkt&amp;Fin</th>\n",
              "      <td>95.0</td>\n",
              "      <td>298852.631579</td>\n",
              "      <td>108190.530165</td>\n",
              "      <td>200000.0</td>\n",
              "      <td>240000.0</td>\n",
              "      <td>270000.0</td>\n",
              "      <td>300000.0</td>\n",
              "      <td>940000.0</td>\n",
              "    </tr>\n",
              "    <tr>\n",
              "      <th>Mkt&amp;HR</th>\n",
              "      <td>53.0</td>\n",
              "      <td>270377.358491</td>\n",
              "      <td>54784.271471</td>\n",
              "      <td>200000.0</td>\n",
              "      <td>240000.0</td>\n",
              "      <td>255000.0</td>\n",
              "      <td>300000.0</td>\n",
              "      <td>450000.0</td>\n",
              "    </tr>\n",
              "  </tbody>\n",
              "</table>\n",
              "</div>"
            ],
            "text/plain": [
              "                count           mean  ...       75%       max\n",
              "specialisation                        ...                    \n",
              "Mkt&Fin          95.0  298852.631579  ...  300000.0  940000.0\n",
              "Mkt&HR           53.0  270377.358491  ...  300000.0  450000.0\n",
              "\n",
              "[2 rows x 8 columns]"
            ]
          },
          "metadata": {
            "tags": []
          },
          "execution_count": 38
        }
      ]
    },
    {
      "cell_type": "markdown",
      "metadata": {
        "id": "hUlivZcZRRCp",
        "colab_type": "text"
      },
      "source": [
        "Marketing & Finance students have a higher average salary. The maximum salary offered to a Marketing & Finance student (₹9,40,000) is significantly larger when compared to the maximum salary of a Marketing & HR student (₹4,50,000). There are more outliers in Marketing & Finance, which means that there are more opportunities for higher paid jobs in this specialisation."
      ]
    },
    {
      "cell_type": "code",
      "metadata": {
        "id": "2QYZeorC-qsa",
        "colab_type": "code",
        "outputId": "8f5c21e2-6e86-43e8-e1a9-664ab269b076",
        "colab": {
          "base_uri": "https://localhost:8080/",
          "height": 507
        }
      },
      "source": [
        "#Plotting Salary vs specialization and degree\n",
        "plt.subplots(figsize=(10,8))\n",
        "sns.violinplot(x=\"degree_t\",y=\"salary\",hue=\"specialisation\",data=df)\n",
        "plt.xlabel(\"Degee Type\")\n",
        "plt.ylabel(\"salary\")\n",
        "plt.show()"
      ],
      "execution_count": 0,
      "outputs": [
        {
          "output_type": "display_data",
          "data": {
            "image/png": "[encoded data removed]",
            "text/plain": [
              "<Figure size 720x576 with 1 Axes>"
            ]
          },
          "metadata": {
            "tags": [],
            "needs_background": "light"
          }
        }
      ]
    },
    {
      "cell_type": "markdown",
      "metadata": {
        "id": "aVdZYnX__eAI",
        "colab_type": "text"
      },
      "source": [
        "It seems as though the highest salaries that were offered were to students who pursued the Marketing & Finance specialisation after obtaining a UG degree in Commerce and Management. However, these are clearly major outliers. It seems than in general, Students with a Science and Technology UG degree pursuring Mkt&Fin specialization were more likely to get higher paying jobs."
      ]
    },
    {
      "cell_type": "markdown",
      "metadata": {
        "id": "vjK25m5KgksD",
        "colab_type": "text"
      },
      "source": [
        "***Feature: mba_p (MBA percentage)***"
      ]
    },
    {
      "cell_type": "markdown",
      "metadata": {
        "id": "VV8LkLh_gtZi",
        "colab_type": "text"
      },
      "source": [
        "**Does MBA Percentage affect placements?**"
      ]
    },
    {
      "cell_type": "code",
      "metadata": {
        "id": "dwHeDj6QgJ7z",
        "colab_type": "code",
        "outputId": "21e1cf04-509c-4694-bdaf-2492a4c5a3bb",
        "colab": {
          "base_uri": "https://localhost:8080/",
          "height": 283
        }
      },
      "source": [
        "sns.boxplot(\"mba_p\",\"status\",data=df)\n",
        "plt.show()"
      ],
      "execution_count": 0,
      "outputs": [
        {
          "output_type": "display_data",
          "data": {
            "image/png": "[encoded data removed]",
            "text/plain": [
              "<Figure size 432x288 with 1 Axes>"
            ]
          },
          "metadata": {
            "tags": [],
            "needs_background": "light"
          }
        }
      ]
    },
    {
      "cell_type": "code",
      "metadata": {
        "id": "wMkDmt1Zg3ym",
        "colab_type": "code",
        "outputId": "c3b49dab-d0c4-45ad-88a8-6625dca44de9",
        "colab": {
          "base_uri": "https://localhost:8080/",
          "height": 270
        }
      },
      "source": [
        "sns.kdeplot(df.mba_p[df.status==\"Placed\"])\n",
        "sns.kdeplot(df.mba_p[df.status==\"Not Placed\"])\n",
        "plt.legend([\"Placed\",\"Not Placed\"])\n",
        "plt.show()"
      ],
      "execution_count": 0,
      "outputs": [
        {
          "output_type": "display_data",
          "data": {
            "image/png": "[encoded data removed]",
            "text/plain": [
              "<Figure size 432x288 with 1 Axes>"
            ]
          },
          "metadata": {
            "tags": [],
            "needs_background": "light"
          }
        }
      ]
    },
    {
      "cell_type": "markdown",
      "metadata": {
        "id": "k1lUi7Frh3X6",
        "colab_type": "text"
      },
      "source": [
        "Mba percentage does not affect placement much"
      ]
    },
    {
      "cell_type": "markdown",
      "metadata": {
        "id": "M6E9PzfBwsD_",
        "colab_type": "text"
      },
      "source": [
        "**Plotting the Relationships between numerical columns**"
      ]
    },
    {
      "cell_type": "markdown",
      "metadata": {
        "id": "A31UoweBiW21",
        "colab_type": "text"
      },
      "source": [
        "#**Data Pre-Processing**"
      ]
    },
    {
      "cell_type": "markdown",
      "metadata": {
        "id": "ohKVvtd1inSa",
        "colab_type": "text"
      },
      "source": [
        "Ignoring Board of Education -> they didnt seem to have much effect"
      ]
    },
    {
      "cell_type": "code",
      "metadata": {
        "id": "poHOGxxOhjUg",
        "colab_type": "code",
        "colab": {}
      },
      "source": [
        "df.drop([\"ssc_b\",\"hsc_b\",'sl_no'],axis=1,inplace=True)"
      ],
      "execution_count": 0,
      "outputs": []
    },
    {
      "cell_type": "markdown",
      "metadata": {
        "id": "gvW-n6hLi0l1",
        "colab_type": "text"
      },
      "source": [
        "##**Feature Encoding**"
      ]
    },
    {
      "cell_type": "code",
      "metadata": {
        "id": "a-K1RK3qilpn",
        "colab_type": "code",
        "outputId": "92a8168c-9be7-4ad3-ada5-1bdf22d18929",
        "colab": {
          "base_uri": "https://localhost:8080/",
          "height": 255
        }
      },
      "source": [
        "df.dtypes"
      ],
      "execution_count": 0,
      "outputs": [
        {
          "output_type": "execute_result",
          "data": {
            "text/plain": [
              "sl_no               int64\n",
              "gender             object\n",
              "ssc_p             float64\n",
              "hsc_p             float64\n",
              "hsc_s              object\n",
              "degree_p          float64\n",
              "degree_t           object\n",
              "workex             object\n",
              "etest_p           float64\n",
              "specialisation     object\n",
              "mba_p             float64\n",
              "status             object\n",
              "salary            float64\n",
              "dtype: object"
            ]
          },
          "metadata": {
            "tags": []
          },
          "execution_count": 92
        }
      ]
    },
    {
      "cell_type": "markdown",
      "metadata": {
        "id": "1QH0UT6fjFyH",
        "colab_type": "text"
      },
      "source": [
        "We have to encode gender,hsc_s, degree_t, workex, specialisation and status"
      ]
    },
    {
      "cell_type": "code",
      "metadata": {
        "id": "WgTvK4QJjmm6",
        "colab_type": "code",
        "colab": {}
      },
      "source": [
        "# Importing LabelEncoder to convert graphical data into numerical data\n",
        "from sklearn.preprocessing import LabelEncoder"
      ],
      "execution_count": 0,
      "outputs": []
    },
    {
      "cell_type": "code",
      "metadata": {
        "id": "6KL_5Rh91_Kw",
        "colab_type": "code",
        "colab": {}
      },
      "source": [
        "labelencoder = LabelEncoder()"
      ],
      "execution_count": 0,
      "outputs": []
    },
    {
      "cell_type": "code",
      "metadata": {
        "id": "9_pEjSwf2IL3",
        "colab_type": "code",
        "colab": {}
      },
      "source": [
        "df['gender'] = labelencoder.fit_transform(df['gender'])\n",
        "df['hsc_s'] = labelencoder.fit_transform(df['hsc_s'])\n",
        "df['degree_t'] = labelencoder.fit_transform(df['degree_t'])\n",
        "df['workex'] = labelencoder.fit_transform(df['workex'])\n",
        "df['specialisation'] = labelencoder.fit_transform(df['specialisation'])\n",
        "df['status'] = labelencoder.fit_transform(df['status'])"
      ],
      "execution_count": 0,
      "outputs": []
    },
    {
      "cell_type": "code",
      "metadata": {
        "id": "cFdwx8vb2Mwc",
        "colab_type": "code",
        "colab": {
          "base_uri": "https://localhost:8080/",
          "height": 108
        },
        "outputId": "eda93560-89f1-40b6-a4cf-909095e9bbf2"
      },
      "source": [
        "df.head(2)"
      ],
      "execution_count": 121,
      "outputs": [
        {
          "output_type": "execute_result",
          "data": {
            "text/html": [
              "<div>\n",
              "<style scoped>\n",
              "    .dataframe tbody tr th:only-of-type {\n",
              "        vertical-align: middle;\n",
              "    }\n",
              "\n",
              "    .dataframe tbody tr th {\n",
              "        vertical-align: top;\n",
              "    }\n",
              "\n",
              "    .dataframe thead th {\n",
              "        text-align: right;\n",
              "    }\n",
              "</style>\n",
              "<table border=\"1\" class=\"dataframe\">\n",
              "  <thead>\n",
              "    <tr style=\"text-align: right;\">\n",
              "      <th></th>\n",
              "      <th>gender</th>\n",
              "      <th>ssc_p</th>\n",
              "      <th>hsc_p</th>\n",
              "      <th>hsc_s</th>\n",
              "      <th>degree_p</th>\n",
              "      <th>degree_t</th>\n",
              "      <th>workex</th>\n",
              "      <th>etest_p</th>\n",
              "      <th>specialisation</th>\n",
              "      <th>mba_p</th>\n",
              "      <th>status</th>\n",
              "      <th>salary</th>\n",
              "    </tr>\n",
              "  </thead>\n",
              "  <tbody>\n",
              "    <tr>\n",
              "      <th>0</th>\n",
              "      <td>1</td>\n",
              "      <td>67.00</td>\n",
              "      <td>91.00</td>\n",
              "      <td>1</td>\n",
              "      <td>58.00</td>\n",
              "      <td>2</td>\n",
              "      <td>0</td>\n",
              "      <td>55.0</td>\n",
              "      <td>1</td>\n",
              "      <td>58.80</td>\n",
              "      <td>1</td>\n",
              "      <td>270000.0</td>\n",
              "    </tr>\n",
              "    <tr>\n",
              "      <th>1</th>\n",
              "      <td>1</td>\n",
              "      <td>79.33</td>\n",
              "      <td>78.33</td>\n",
              "      <td>2</td>\n",
              "      <td>77.48</td>\n",
              "      <td>2</td>\n",
              "      <td>1</td>\n",
              "      <td>86.5</td>\n",
              "      <td>0</td>\n",
              "      <td>66.28</td>\n",
              "      <td>1</td>\n",
              "      <td>200000.0</td>\n",
              "    </tr>\n",
              "  </tbody>\n",
              "</table>\n",
              "</div>"
            ],
            "text/plain": [
              "   gender  ssc_p  hsc_p  hsc_s  ...  specialisation  mba_p  status    salary\n",
              "0       1  67.00  91.00      1  ...               1  58.80       1  270000.0\n",
              "1       1  79.33  78.33      2  ...               0  66.28       1  200000.0\n",
              "\n",
              "[2 rows x 12 columns]"
            ]
          },
          "metadata": {
            "tags": []
          },
          "execution_count": 121
        }
      ]
    },
    {
      "cell_type": "markdown",
      "metadata": {
        "id": "woYr_UA0Ikob",
        "colab_type": "text"
      },
      "source": [
        "#**Problem Statement**"
      ]
    },
    {
      "cell_type": "markdown",
      "metadata": {
        "id": "Sg76uVZAItGf",
        "colab_type": "text"
      },
      "source": [
        "\n",
        "\n",
        "*   Predicting If Students gets placed or not (Binary Classification Problem)\n",
        "*   Predicting Salary of Student (Regression Problem)\n",
        "\n"
      ]
    },
    {
      "cell_type": "code",
      "metadata": {
        "id": "1WWeZDrxjZmR",
        "colab_type": "code",
        "colab": {}
      },
      "source": [
        "#Lets make a copy of data, before we proceeed with specific problems\n",
        "data_clf = df.copy()\n",
        "data_reg = df.copy()"
      ],
      "execution_count": 0,
      "outputs": []
    },
    {
      "cell_type": "code",
      "metadata": {
        "id": "UaqBBhAx8r33",
        "colab_type": "code",
        "colab": {}
      },
      "source": [
        "# Seperating Features and Target\n",
        "X = data_clf.drop(['status','salary'],axis=1)\n",
        "y = data_clf['status']"
      ],
      "execution_count": 0,
      "outputs": []
    },
    {
      "cell_type": "code",
      "metadata": {
        "id": "yGPs8Ae19BeT",
        "colab_type": "code",
        "colab": {}
      },
      "source": [
        "#Train Test Split\n",
        "from sklearn.model_selection import train_test_split\n",
        "X_train, X_test, y_train, y_test = train_test_split(X, y, test_size=0.3)"
      ],
      "execution_count": 0,
      "outputs": []
    },
    {
      "cell_type": "markdown",
      "metadata": {
        "id": "qzYuz4xO6heo",
        "colab_type": "text"
      },
      "source": [
        "#**Model Selection**"
      ]
    },
    {
      "cell_type": "markdown",
      "metadata": {
        "id": "MMtKNSsvI7sR",
        "colab_type": "text"
      },
      "source": [
        "###**Binary Classification Problem**"
      ]
    },
    {
      "cell_type": "code",
      "metadata": {
        "id": "bQS7t6ZG6soU",
        "colab_type": "code",
        "outputId": "cc394bf7-3676-4f77-881d-f911c291d0c6",
        "colab": {
          "base_uri": "https://localhost:8080/",
          "height": 318
        }
      },
      "source": [
        "models = pd.DataFrame(columns=['model', 'score', 'std','Time to Train']) \n",
        "#DataFrame to store scores of all models\n",
        "\n",
        "options = [GaussianNB(), \n",
        "           LogisticRegression(), \n",
        "           SVC(), \n",
        "           LinearSVC(), \n",
        "           DecisionTreeClassifier(), \n",
        "           RandomForestClassifier(), \n",
        "           KNeighborsClassifier(), \n",
        "           SGDClassifier(), \n",
        "           XGBClassifier()]  \n",
        "\n",
        "model_names = ['Naive Bayes', \n",
        "               'Logistic Regression', \n",
        "               'Support Vector Machine', \n",
        "               'Linear SVC', \n",
        "               'Decison Tree',\n",
        "               'Random Forest',\n",
        "               'KNN', \n",
        "               'SGD Classifier',\n",
        "               'XGBoost']\n",
        "\n",
        "for (option, name) in zip(options, model_names):\n",
        "    start=time.time()\n",
        "    model = option\n",
        "    model.fit(X_train, y_train)\n",
        "    scores = cross_val_score(model, X_train, y_train, cv = 10, scoring=\"accuracy\")\n",
        "    end=time.time()\n",
        "    row = pd.DataFrame([[name, scores.mean(), scores.std(), end-start]], columns=['model', 'score', 'std','Time to Train'])\n",
        "    models = pd.concat([models, row], ignore_index=True)\n",
        "\n",
        "models.sort_values(by='score', ascending=False)\n"
      ],
      "execution_count": 150,
      "outputs": [
        {
          "output_type": "execute_result",
          "data": {
            "text/html": [
              "<div>\n",
              "<style scoped>\n",
              "    .dataframe tbody tr th:only-of-type {\n",
              "        vertical-align: middle;\n",
              "    }\n",
              "\n",
              "    .dataframe tbody tr th {\n",
              "        vertical-align: top;\n",
              "    }\n",
              "\n",
              "    .dataframe thead th {\n",
              "        text-align: right;\n",
              "    }\n",
              "</style>\n",
              "<table border=\"1\" class=\"dataframe\">\n",
              "  <thead>\n",
              "    <tr style=\"text-align: right;\">\n",
              "      <th></th>\n",
              "      <th>model</th>\n",
              "      <th>score</th>\n",
              "      <th>std</th>\n",
              "      <th>Time to Train</th>\n",
              "    </tr>\n",
              "  </thead>\n",
              "  <tbody>\n",
              "    <tr>\n",
              "      <th>1</th>\n",
              "      <td>Logistic Regression</td>\n",
              "      <td>0.873333</td>\n",
              "      <td>0.086667</td>\n",
              "      <td>0.241503</td>\n",
              "    </tr>\n",
              "    <tr>\n",
              "      <th>5</th>\n",
              "      <td>Random Forest</td>\n",
              "      <td>0.853333</td>\n",
              "      <td>0.065320</td>\n",
              "      <td>1.523127</td>\n",
              "    </tr>\n",
              "    <tr>\n",
              "      <th>6</th>\n",
              "      <td>KNN</td>\n",
              "      <td>0.853333</td>\n",
              "      <td>0.083267</td>\n",
              "      <td>0.042855</td>\n",
              "    </tr>\n",
              "    <tr>\n",
              "      <th>8</th>\n",
              "      <td>XGBoost</td>\n",
              "      <td>0.826667</td>\n",
              "      <td>0.067987</td>\n",
              "      <td>0.225349</td>\n",
              "    </tr>\n",
              "    <tr>\n",
              "      <th>2</th>\n",
              "      <td>Support Vector Machine</td>\n",
              "      <td>0.820000</td>\n",
              "      <td>0.052068</td>\n",
              "      <td>0.041411</td>\n",
              "    </tr>\n",
              "    <tr>\n",
              "      <th>0</th>\n",
              "      <td>Naive Bayes</td>\n",
              "      <td>0.820000</td>\n",
              "      <td>0.066999</td>\n",
              "      <td>0.041173</td>\n",
              "    </tr>\n",
              "    <tr>\n",
              "      <th>4</th>\n",
              "      <td>Decison Tree</td>\n",
              "      <td>0.780000</td>\n",
              "      <td>0.060000</td>\n",
              "      <td>0.036084</td>\n",
              "    </tr>\n",
              "    <tr>\n",
              "      <th>7</th>\n",
              "      <td>SGD Classifier</td>\n",
              "      <td>0.746667</td>\n",
              "      <td>0.097980</td>\n",
              "      <td>0.036987</td>\n",
              "    </tr>\n",
              "    <tr>\n",
              "      <th>3</th>\n",
              "      <td>Linear SVC</td>\n",
              "      <td>0.700000</td>\n",
              "      <td>0.179505</td>\n",
              "      <td>0.102074</td>\n",
              "    </tr>\n",
              "  </tbody>\n",
              "</table>\n",
              "</div>"
            ],
            "text/plain": [
              "                    model     score       std  Time to Train\n",
              "1     Logistic Regression  0.873333  0.086667       0.241503\n",
              "5           Random Forest  0.853333  0.065320       1.523127\n",
              "6                     KNN  0.853333  0.083267       0.042855\n",
              "8                 XGBoost  0.826667  0.067987       0.225349\n",
              "2  Support Vector Machine  0.820000  0.052068       0.041411\n",
              "0             Naive Bayes  0.820000  0.066999       0.041173\n",
              "4            Decison Tree  0.780000  0.060000       0.036084\n",
              "7          SGD Classifier  0.746667  0.097980       0.036987\n",
              "3              Linear SVC  0.700000  0.179505       0.102074"
            ]
          },
          "metadata": {
            "tags": []
          },
          "execution_count": 150
        }
      ]
    },
    {
      "cell_type": "markdown",
      "metadata": {
        "id": "MRuTSJGeqihU",
        "colab_type": "text"
      },
      "source": [
        "Here we can see that Logistic Regression has highest accuracy so lets try implementing it."
      ]
    },
    {
      "cell_type": "markdown",
      "metadata": {
        "id": "3JwDIguaPML7",
        "colab_type": "text"
      },
      "source": [
        "**Random Forest Classifier**"
      ]
    },
    {
      "cell_type": "code",
      "metadata": {
        "id": "c-BXlyTYPd5e",
        "colab_type": "code",
        "colab": {}
      },
      "source": [
        "random_forest = RandomForestClassifier(n_estimators=100)\n",
        "random_forest.fit(X_train, y_train)\n",
        "y_pred = random_forest.predict(X_test)"
      ],
      "execution_count": 0,
      "outputs": []
    },
    {
      "cell_type": "code",
      "metadata": {
        "id": "WTCC3ysKBnqU",
        "colab_type": "code",
        "outputId": "7499576f-7043-43b8-8198-82f0d1c8e606",
        "colab": {
          "base_uri": "https://localhost:8080/",
          "height": 35
        }
      },
      "source": [
        "from sklearn.metrics import roc_auc_score\n",
        "auc = roc_auc_score(y_test, y_pred)\n",
        "print(auc)"
      ],
      "execution_count": 152,
      "outputs": [
        {
          "output_type": "stream",
          "text": [
            "0.8354978354978355\n"
          ],
          "name": "stdout"
        }
      ]
    },
    {
      "cell_type": "code",
      "metadata": {
        "id": "Y0v8xk9kPrKg",
        "colab_type": "code",
        "outputId": "a0bf6771-26ce-4e7f-8ef2-c289bd367ca3",
        "colab": {
          "base_uri": "https://localhost:8080/",
          "height": 35
        }
      },
      "source": [
        "accuracy_score(y_test, y_pred)"
      ],
      "execution_count": 153,
      "outputs": [
        {
          "output_type": "execute_result",
          "data": {
            "text/plain": [
              "0.8615384615384616"
            ]
          },
          "metadata": {
            "tags": []
          },
          "execution_count": 153
        }
      ]
    },
    {
      "cell_type": "code",
      "metadata": {
        "id": "j-bFBcTIP0da",
        "colab_type": "code",
        "outputId": "66cd40e6-a977-47a4-be5d-c02c959b5c26",
        "colab": {
          "base_uri": "https://localhost:8080/",
          "height": 181
        }
      },
      "source": [
        "\n",
        "from sklearn.metrics import classification_report \n",
        "print(classification_report(y_test, y_pred))"
      ],
      "execution_count": 154,
      "outputs": [
        {
          "output_type": "stream",
          "text": [
            "              precision    recall  f1-score   support\n",
            "\n",
            "           0       0.80      0.76      0.78        21\n",
            "           1       0.89      0.91      0.90        44\n",
            "\n",
            "    accuracy                           0.86        65\n",
            "   macro avg       0.84      0.84      0.84        65\n",
            "weighted avg       0.86      0.86      0.86        65\n",
            "\n"
          ],
          "name": "stdout"
        }
      ]
    },
    {
      "cell_type": "code",
      "metadata": {
        "id": "2uT_WQxkPSV7",
        "colab_type": "code",
        "outputId": "c63c3599-d45e-4a99-a3e8-b0c19e9d0fa7",
        "colab": {
          "base_uri": "https://localhost:8080/",
          "height": 54
        }
      },
      "source": [
        "from sklearn.metrics import confusion_matrix\n",
        "print(confusion_matrix(y_test,y_pred))\n"
      ],
      "execution_count": 155,
      "outputs": [
        {
          "output_type": "stream",
          "text": [
            "[[16  5]\n",
            " [ 4 40]]\n"
          ],
          "name": "stdout"
        }
      ]
    },
    {
      "cell_type": "markdown",
      "metadata": {
        "id": "RxclDy8gQCg9",
        "colab_type": "text"
      },
      "source": [
        "**Feature Importance (Percentage)**\n",
        "\n",
        "Tree based algorithms can be used to compute feature importance\n",
        "\n",
        "Checking feature importance obtained from these:"
      ]
    },
    {
      "cell_type": "code",
      "metadata": {
        "id": "KQupne5YB8mb",
        "colab_type": "code",
        "outputId": "40ee9027-6f56-410a-cf28-6be53d30d2af",
        "colab": {
          "base_uri": "https://localhost:8080/",
          "height": 348
        }
      },
      "source": [
        "imp=random_forest.feature_importances_*100\n",
        "Fec=pd.DataFrame(imp,columns=[\"Importance\"])\n",
        "Names=[\"Gender\",\"SSC %\",\"HSC %\",\"HSC Stream\",\"Degree % \",\"Degree Stream\",\n",
        "              \"Work Ex\",\"Entrance %\",\" Specialisation\",\"Mba %\"]\n",
        "Fec['Features']=Names\n",
        "#Fec.head(10)\n",
        "Fec.sort_values(by='Importance', ascending=False)"
      ],
      "execution_count": 53,
      "outputs": [
        {
          "output_type": "execute_result",
          "data": {
            "text/html": [
              "<div>\n",
              "<style scoped>\n",
              "    .dataframe tbody tr th:only-of-type {\n",
              "        vertical-align: middle;\n",
              "    }\n",
              "\n",
              "    .dataframe tbody tr th {\n",
              "        vertical-align: top;\n",
              "    }\n",
              "\n",
              "    .dataframe thead th {\n",
              "        text-align: right;\n",
              "    }\n",
              "</style>\n",
              "<table border=\"1\" class=\"dataframe\">\n",
              "  <thead>\n",
              "    <tr style=\"text-align: right;\">\n",
              "      <th></th>\n",
              "      <th>Importance</th>\n",
              "      <th>Features</th>\n",
              "    </tr>\n",
              "  </thead>\n",
              "  <tbody>\n",
              "    <tr>\n",
              "      <th>2</th>\n",
              "      <td>23.702429</td>\n",
              "      <td>HSC %</td>\n",
              "    </tr>\n",
              "    <tr>\n",
              "      <th>1</th>\n",
              "      <td>22.609544</td>\n",
              "      <td>SSC %</td>\n",
              "    </tr>\n",
              "    <tr>\n",
              "      <th>4</th>\n",
              "      <td>21.013286</td>\n",
              "      <td>Degree %</td>\n",
              "    </tr>\n",
              "    <tr>\n",
              "      <th>9</th>\n",
              "      <td>12.475348</td>\n",
              "      <td>Mba %</td>\n",
              "    </tr>\n",
              "    <tr>\n",
              "      <th>7</th>\n",
              "      <td>7.031603</td>\n",
              "      <td>Entrance %</td>\n",
              "    </tr>\n",
              "    <tr>\n",
              "      <th>6</th>\n",
              "      <td>3.966304</td>\n",
              "      <td>Work Ex</td>\n",
              "    </tr>\n",
              "    <tr>\n",
              "      <th>8</th>\n",
              "      <td>2.765176</td>\n",
              "      <td>Specialisation</td>\n",
              "    </tr>\n",
              "    <tr>\n",
              "      <th>5</th>\n",
              "      <td>2.633716</td>\n",
              "      <td>Degree Stream</td>\n",
              "    </tr>\n",
              "    <tr>\n",
              "      <th>0</th>\n",
              "      <td>2.200722</td>\n",
              "      <td>Gender</td>\n",
              "    </tr>\n",
              "    <tr>\n",
              "      <th>3</th>\n",
              "      <td>1.601874</td>\n",
              "      <td>HSC Stream</td>\n",
              "    </tr>\n",
              "  </tbody>\n",
              "</table>\n",
              "</div>"
            ],
            "text/plain": [
              "   Importance         Features\n",
              "2   23.702429            HSC %\n",
              "1   22.609544            SSC %\n",
              "4   21.013286        Degree % \n",
              "9   12.475348            Mba %\n",
              "7    7.031603       Entrance %\n",
              "6    3.966304          Work Ex\n",
              "8    2.765176   Specialisation\n",
              "5    2.633716    Degree Stream\n",
              "0    2.200722           Gender\n",
              "3    1.601874       HSC Stream"
            ]
          },
          "metadata": {
            "tags": []
          },
          "execution_count": 53
        }
      ]
    },
    {
      "cell_type": "code",
      "metadata": {
        "id": "pL7cKNnjBZQJ",
        "colab_type": "code",
        "colab": {}
      },
      "source": [
        "imp=random_forest.feature_importances_*100\n",
        "Fec=pd.DataFrame(imp,columns=[\"Importance\"])\n",
        "Names=[\"Gender\",\"SSC %\",\"HSC %\",\"HSC Stream\",\"Degree % \",\"Degree Stream\",\n",
        "              \"Work Ex\",\"Entrance %\",\" Specialisation\",\"Mba %\"]\n",
        "Fec['Features']=Names\n",
        "#Fec.head(10)\n",
        "Fec.sort_values(by='Importance', ascending=False)"
      ],
      "execution_count": 0,
      "outputs": []
    },
    {
      "cell_type": "code",
      "metadata": {
        "id": "Y3oG816hCv4Y",
        "colab_type": "code",
        "outputId": "180bcfc6-0746-446e-fe6d-2b8c16772af7",
        "colab": {
          "base_uri": "https://localhost:8080/",
          "height": 388
        }
      },
      "source": [
        "plt.figure(figsize=(12,6))\n",
        "sns.barplot(Fec.Features,Fec.Importance)\n",
        "plt.show()"
      ],
      "execution_count": 54,
      "outputs": [
        {
          "output_type": "display_data",
          "data": {
            "image/png": "[encoded data removed]",
            "text/plain": [
              "<Figure size 864x432 with 1 Axes>"
            ]
          },
          "metadata": {
            "tags": [],
            "needs_background": "light"
          }
        }
      ]
    },
    {
      "cell_type": "markdown",
      "metadata": {
        "id": "b5MUSkYeDKHM",
        "colab_type": "text"
      },
      "source": [
        "From the above bar chart we know that If we have a 5 percentage minimum confidence bound then, The important features which decide one probability of getting placed are- SSC%, HSC%, Degree%, MBA%, Work EX and Entrance % ."
      ]
    },
    {
      "cell_type": "markdown",
      "metadata": {
        "id": "NeANaBvBW1up",
        "colab_type": "text"
      },
      "source": [
        "#**Logistic Regression**"
      ]
    },
    {
      "cell_type": "code",
      "metadata": {
        "id": "CN4gUdFOW7CM",
        "colab_type": "code",
        "colab": {}
      },
      "source": [
        "from sklearn.linear_model import LogisticRegression\n",
        "from sklearn.metrics import confusion_matrix,accuracy_score\n",
        "from sklearn.model_selection import GridSearchCV,cross_val_score,train_test_split"
      ],
      "execution_count": 0,
      "outputs": []
    },
    {
      "cell_type": "code",
      "metadata": {
        "id": "iWwpOLNgW90E",
        "colab_type": "code",
        "colab": {}
      },
      "source": [
        "Log_model = LogisticRegression()"
      ],
      "execution_count": 0,
      "outputs": []
    },
    {
      "cell_type": "code",
      "metadata": {
        "id": "5dyeU8myXEmm",
        "colab_type": "code",
        "outputId": "dce0f5a1-941c-4b20-d9d9-79d9685f5629",
        "colab": {
          "base_uri": "https://localhost:8080/",
          "height": 90
        }
      },
      "source": [
        "Log_model.fit(X_train,y_train)\n",
        "y_pred = Log_model.predict(X_test)\n",
        "print('Accuracy -> ',accuracy_score(y_test,y_pred)*100)\n",
        "print('Confusion Matrix : \\n',confusion_matrix(y_test,y_pred))"
      ],
      "execution_count": 156,
      "outputs": [
        {
          "output_type": "stream",
          "text": [
            "Accuracy ->  86.15384615384616\n",
            "Confusion Matrix : \n",
            " [[16  5]\n",
            " [ 4 40]]\n"
          ],
          "name": "stdout"
        }
      ]
    },
    {
      "cell_type": "markdown",
      "metadata": {
        "id": "VroATFdHYRX5",
        "colab_type": "text"
      },
      "source": [
        "###**Now, Let's try increasing the Accuracy of this MODEL by Tuning its Hyperparameters :**"
      ]
    },
    {
      "cell_type": "code",
      "metadata": {
        "id": "Kpi3S0F7YXCu",
        "colab_type": "code",
        "colab": {}
      },
      "source": [
        "import numpy as np\n",
        "parameters = [{'penalty' : ['l2','l1'],\n",
        "               'C' : np.logspace(0, 4, 10),\n",
        "               'class_weight' : ['balanced',None],\n",
        "               'multi_class' : ['ovr','auto'],\n",
        "               'max_iter' : np.arange(50,130,10)},\n",
        "              {'penalty' : ['l2'],\n",
        "               'C' : np.logspace(0, 4, 10),\n",
        "               'class_weight' : ['balanced',None],\n",
        "               'max_iter' : np.arange(50,130,10),\n",
        "               'solver' : ['newton-cg','saga','sag','liblinear'],\n",
        "               'multi_class' : ['ovr','auto']}]"
      ],
      "execution_count": 0,
      "outputs": []
    },
    {
      "cell_type": "code",
      "metadata": {
        "id": "612HnjEAYPnQ",
        "colab_type": "code",
        "outputId": "9c7c30ee-d651-401a-daa0-2949a21dd827",
        "colab": {
          "base_uri": "https://localhost:8080/",
          "height": 363
        }
      },
      "source": [
        "Log_grid = GridSearchCV(estimator=Log_model,param_grid=parameters,scoring='accuracy',cv=10,n_jobs=-1)\n",
        "Log_grid.fit(X,y)"
      ],
      "execution_count": 157,
      "outputs": [
        {
          "output_type": "execute_result",
          "data": {
            "text/plain": [
              "GridSearchCV(cv=10, error_score=nan,\n",
              "             estimator=LogisticRegression(C=1.0, class_weight=None, dual=False,\n",
              "                                          fit_intercept=True,\n",
              "                                          intercept_scaling=1, l1_ratio=None,\n",
              "                                          max_iter=100, multi_class='auto',\n",
              "                                          n_jobs=None, penalty='l2',\n",
              "                                          random_state=None, solver='lbfgs',\n",
              "                                          tol=0.0001, verbose=0,\n",
              "                                          warm_start=False),\n",
              "             iid='deprecated', n_jobs=-1,\n",
              "             param_grid=[{'C': array([1.00000000e+00, 2.7...\n",
              "       5.99484250e+01, 1.66810054e+02, 4.64158883e+02, 1.29154967e+03,\n",
              "       3.59381366e+03, 1.00000000e+04]),\n",
              "                          'class_weight': ['balanced', None],\n",
              "                          'max_iter': array([ 50,  60,  70,  80,  90, 100, 110, 120]),\n",
              "                          'multi_class': ['ovr', 'auto'], 'penalty': ['l2'],\n",
              "                          'solver': ['newton-cg', 'saga', 'sag', 'liblinear']}],\n",
              "             pre_dispatch='2*n_jobs', refit=True, return_train_score=False,\n",
              "             scoring='accuracy', verbose=0)"
            ]
          },
          "metadata": {
            "tags": []
          },
          "execution_count": 157
        }
      ]
    },
    {
      "cell_type": "markdown",
      "metadata": {
        "id": "H3NEcUBRZ-OT",
        "colab_type": "text"
      },
      "source": [
        "##**The BEST PARAMETERS obtained for Logistic Regression MODEL are :**"
      ]
    },
    {
      "cell_type": "code",
      "metadata": {
        "id": "je9CWq7qaCHg",
        "colab_type": "code",
        "outputId": "cee81780-d69a-47ec-e74f-014ccf78d9fc",
        "colab": {
          "base_uri": "https://localhost:8080/",
          "height": 108
        }
      },
      "source": [
        "Log_grid.best_params_"
      ],
      "execution_count": 143,
      "outputs": [
        {
          "output_type": "execute_result",
          "data": {
            "text/plain": [
              "{'C': 1.0,\n",
              " 'class_weight': 'balanced',\n",
              " 'max_iter': 80,\n",
              " 'multi_class': 'ovr',\n",
              " 'penalty': 'l2'}"
            ]
          },
          "metadata": {
            "tags": []
          },
          "execution_count": 143
        }
      ]
    },
    {
      "cell_type": "markdown",
      "metadata": {
        "id": "ZTHOUmuPaKtH",
        "colab_type": "text"
      },
      "source": [
        "Let's create a MODEL by using these HYPERARAMETER values :"
      ]
    },
    {
      "cell_type": "code",
      "metadata": {
        "id": "7SeuR45QYivP",
        "colab_type": "code",
        "colab": {}
      },
      "source": [
        "Log_model_grid = LogisticRegression(C= 1.0,\n",
        " class_weight= 'balanced',\n",
        " max_iter= 80,\n",
        " multi_class= 'ovr',\n",
        " penalty= 'l2')"
      ],
      "execution_count": 0,
      "outputs": []
    },
    {
      "cell_type": "code",
      "metadata": {
        "id": "sB7pLkoxaXSD",
        "colab_type": "code",
        "outputId": "3c8a2f50-98d0-41c8-c368-6d521c364a81",
        "colab": {
          "base_uri": "https://localhost:8080/",
          "height": 35
        }
      },
      "source": [
        "print('Accuracy after doing HYPERPARAMETER Tuning -> ',cross_val_score(Log_model_grid,X,y,cv=10).mean()*100,'%')"
      ],
      "execution_count": 158,
      "outputs": [
        {
          "output_type": "stream",
          "text": [
            "Accuracy after doing HYPERPARAMETER Tuning ->  88.87445887445887 %\n"
          ],
          "name": "stdout"
        }
      ]
    },
    {
      "cell_type": "markdown",
      "metadata": {
        "id": "WCCz_Q1KazCV",
        "colab_type": "text"
      },
      "source": [
        "Now, as we can see their is Slight Increase in Accuracy after doing Hyperparameter Tuning."
      ]
    },
    {
      "cell_type": "markdown",
      "metadata": {
        "id": "i6_BlLbU_9l4",
        "colab_type": "text"
      },
      "source": [
        "#**Conclusion**"
      ]
    },
    {
      "cell_type": "markdown",
      "metadata": {
        "id": "FO9K7BpkAHuC",
        "colab_type": "text"
      },
      "source": [
        "In this notebook, we explored dataset containing campus recruitment data for students from an MBA college. Though our analysis, we found that:\n",
        "\n",
        "\n",
        "\n",
        "1.   The board of school education doesnt matter when it comes to placements or even salaries.\n",
        "2.   Placed students seem to have performed better in their 10th and 12th exams than Non Placed Students\n",
        "3.   Among the various specializations, students with a Sci&Tech UG degree and Mkt&Fin MBA specialization appear to have slightly higher salaries.\n",
        "4.   The salaries for female students seems to be generally slightly lower than men.\n",
        "\n",
        "\n"
      ]
    },
    {
      "cell_type": "markdown",
      "metadata": {
        "id": "9_pt4JUCzXvd",
        "colab_type": "text"
      },
      "source": [
        "##**Prediction of Salary (Regression using Ensemble models)**"
      ]
    },
    {
      "cell_type": "code",
      "metadata": {
        "id": "XxKlbrVPy1UZ",
        "colab_type": "code",
        "colab": {}
      },
      "source": [
        "#Dropping non-numerical columns and primary keys\n",
        "salary_data = df.drop(columns=['gender','ssc_b','hsc_b','hsc_s','degree_t','workex','specialisation','status','sl_no','etest_p'])"
      ],
      "execution_count": 0,
      "outputs": []
    },
    {
      "cell_type": "code",
      "metadata": {
        "id": "wahDFfeJy_ky",
        "colab_type": "code",
        "colab": {}
      },
      "source": [
        "#Dropping null values\n",
        "salary_data.dropna(inplace=True)"
      ],
      "execution_count": 0,
      "outputs": []
    },
    {
      "cell_type": "code",
      "metadata": {
        "id": "YCQ8k8aCzGc9",
        "colab_type": "code",
        "outputId": "0a1be2e2-ad65-4e61-c483-c0c2d6deb31b",
        "colab": {
          "base_uri": "https://localhost:8080/",
          "height": 406
        }
      },
      "source": [
        "#View modified data\n",
        "salary_data"
      ],
      "execution_count": 0,
      "outputs": [
        {
          "output_type": "execute_result",
          "data": {
            "text/html": [
              "<div>\n",
              "<style scoped>\n",
              "    .dataframe tbody tr th:only-of-type {\n",
              "        vertical-align: middle;\n",
              "    }\n",
              "\n",
              "    .dataframe tbody tr th {\n",
              "        vertical-align: top;\n",
              "    }\n",
              "\n",
              "    .dataframe thead th {\n",
              "        text-align: right;\n",
              "    }\n",
              "</style>\n",
              "<table border=\"1\" class=\"dataframe\">\n",
              "  <thead>\n",
              "    <tr style=\"text-align: right;\">\n",
              "      <th></th>\n",
              "      <th>ssc_p</th>\n",
              "      <th>hsc_p</th>\n",
              "      <th>degree_p</th>\n",
              "      <th>mba_p</th>\n",
              "      <th>salary</th>\n",
              "    </tr>\n",
              "  </thead>\n",
              "  <tbody>\n",
              "    <tr>\n",
              "      <th>0</th>\n",
              "      <td>67.00</td>\n",
              "      <td>91.00</td>\n",
              "      <td>58.00</td>\n",
              "      <td>58.80</td>\n",
              "      <td>270000.0</td>\n",
              "    </tr>\n",
              "    <tr>\n",
              "      <th>1</th>\n",
              "      <td>79.33</td>\n",
              "      <td>78.33</td>\n",
              "      <td>77.48</td>\n",
              "      <td>66.28</td>\n",
              "      <td>200000.0</td>\n",
              "    </tr>\n",
              "    <tr>\n",
              "      <th>2</th>\n",
              "      <td>65.00</td>\n",
              "      <td>68.00</td>\n",
              "      <td>64.00</td>\n",
              "      <td>57.80</td>\n",
              "      <td>250000.0</td>\n",
              "    </tr>\n",
              "    <tr>\n",
              "      <th>4</th>\n",
              "      <td>85.80</td>\n",
              "      <td>73.60</td>\n",
              "      <td>73.30</td>\n",
              "      <td>55.50</td>\n",
              "      <td>425000.0</td>\n",
              "    </tr>\n",
              "    <tr>\n",
              "      <th>7</th>\n",
              "      <td>82.00</td>\n",
              "      <td>64.00</td>\n",
              "      <td>66.00</td>\n",
              "      <td>62.14</td>\n",
              "      <td>252000.0</td>\n",
              "    </tr>\n",
              "    <tr>\n",
              "      <th>...</th>\n",
              "      <td>...</td>\n",
              "      <td>...</td>\n",
              "      <td>...</td>\n",
              "      <td>...</td>\n",
              "      <td>...</td>\n",
              "    </tr>\n",
              "    <tr>\n",
              "      <th>209</th>\n",
              "      <td>62.00</td>\n",
              "      <td>72.00</td>\n",
              "      <td>65.00</td>\n",
              "      <td>56.49</td>\n",
              "      <td>216000.0</td>\n",
              "    </tr>\n",
              "    <tr>\n",
              "      <th>210</th>\n",
              "      <td>80.60</td>\n",
              "      <td>82.00</td>\n",
              "      <td>77.60</td>\n",
              "      <td>74.49</td>\n",
              "      <td>400000.0</td>\n",
              "    </tr>\n",
              "    <tr>\n",
              "      <th>211</th>\n",
              "      <td>58.00</td>\n",
              "      <td>60.00</td>\n",
              "      <td>72.00</td>\n",
              "      <td>53.62</td>\n",
              "      <td>275000.0</td>\n",
              "    </tr>\n",
              "    <tr>\n",
              "      <th>212</th>\n",
              "      <td>67.00</td>\n",
              "      <td>67.00</td>\n",
              "      <td>73.00</td>\n",
              "      <td>69.72</td>\n",
              "      <td>295000.0</td>\n",
              "    </tr>\n",
              "    <tr>\n",
              "      <th>213</th>\n",
              "      <td>74.00</td>\n",
              "      <td>66.00</td>\n",
              "      <td>58.00</td>\n",
              "      <td>60.23</td>\n",
              "      <td>204000.0</td>\n",
              "    </tr>\n",
              "  </tbody>\n",
              "</table>\n",
              "<p>148 rows × 5 columns</p>\n",
              "</div>"
            ],
            "text/plain": [
              "     ssc_p  hsc_p  degree_p  mba_p    salary\n",
              "0    67.00  91.00     58.00  58.80  270000.0\n",
              "1    79.33  78.33     77.48  66.28  200000.0\n",
              "2    65.00  68.00     64.00  57.80  250000.0\n",
              "4    85.80  73.60     73.30  55.50  425000.0\n",
              "7    82.00  64.00     66.00  62.14  252000.0\n",
              "..     ...    ...       ...    ...       ...\n",
              "209  62.00  72.00     65.00  56.49  216000.0\n",
              "210  80.60  82.00     77.60  74.49  400000.0\n",
              "211  58.00  60.00     72.00  53.62  275000.0\n",
              "212  67.00  67.00     73.00  69.72  295000.0\n",
              "213  74.00  66.00     58.00  60.23  204000.0\n",
              "\n",
              "[148 rows x 5 columns]"
            ]
          },
          "metadata": {
            "tags": []
          },
          "execution_count": 54
        }
      ]
    },
    {
      "cell_type": "code",
      "metadata": {
        "id": "6xigY88lzQ9n",
        "colab_type": "code",
        "colab": {}
      },
      "source": [
        "X=salary_data.drop(\"salary\",axis=1)\n",
        "y=salary_data[\"salary\"]"
      ],
      "execution_count": 0,
      "outputs": []
    },
    {
      "cell_type": "code",
      "metadata": {
        "id": "YXQ2FlfdzlwB",
        "colab_type": "code",
        "colab": {}
      },
      "source": [
        "from sklearn.model_selection import train_test_split\n",
        "X_train,X_test,y_train,y_test=train_test_split(X,y,test_size=0.20,random_state=1001)"
      ],
      "execution_count": 0,
      "outputs": []
    },
    {
      "cell_type": "code",
      "metadata": {
        "id": "hBn-3xPrz_Ij",
        "colab_type": "code",
        "colab": {}
      },
      "source": [
        "from sklearn.ensemble import RandomForestRegressor,GradientBoostingRegressor\n",
        "from xgboost import XGBRegressor\n",
        "from sklearn.model_selection import cross_val_score\n",
        "from lightgbm import LGBMRegressor\n",
        "from sklearn.linear_model import  Lasso,Ridge"
      ],
      "execution_count": 0,
      "outputs": []
    },
    {
      "cell_type": "code",
      "metadata": {
        "id": "sTMlFUUW2FFE",
        "colab_type": "code",
        "colab": {}
      },
      "source": [
        "xgb=XGBRegressor(learning_rate=0.01,n_estimators=1000)\n",
        "Rf=RandomForestRegressor(n_estimators=1000)\n",
        "gb=GradientBoostingRegressor(learning_rate=0.01,n_estimators=1000)\n",
        "lgb=LGBMRegressor(boosting_type='gbdt',objective='huber',learning_rate=0.01,n_estimators=1000,metric='rmse')\n",
        "lassoreg=Lasso(alpha=0.1,normalize=True)\n",
        "rodgreg=Ridge(alpha=0.1,normalize=True)"
      ],
      "execution_count": 0,
      "outputs": []
    },
    {
      "cell_type": "code",
      "metadata": {
        "id": "dSA2MeloLraX",
        "colab_type": "code",
        "outputId": "1b8b2013-fe22-4a91-ceab-17f2d77a5d1d",
        "colab": {
          "base_uri": "https://localhost:8080/",
          "height": 141
        }
      },
      "source": [
        "lgb.fit(X_train,y_train)\n"
      ],
      "execution_count": 0,
      "outputs": [
        {
          "output_type": "execute_result",
          "data": {
            "text/plain": [
              "LGBMRegressor(boosting_type='gbdt', class_weight=None, colsample_bytree=1.0,\n",
              "              importance_type='split', learning_rate=0.01, max_depth=-1,\n",
              "              metric='rmse', min_child_samples=20, min_child_weight=0.001,\n",
              "              min_split_gain=0.0, n_estimators=1000, n_jobs=-1, num_leaves=31,\n",
              "              objective='huber', random_state=None, reg_alpha=0.0,\n",
              "              reg_lambda=0.0, silent=True, subsample=1.0,\n",
              "              subsample_for_bin=200000, subsample_freq=0)"
            ]
          },
          "metadata": {
            "tags": []
          },
          "execution_count": 57
        }
      ]
    },
    {
      "cell_type": "code",
      "metadata": {
        "id": "ZGcHOT4oMcfT",
        "colab_type": "code",
        "outputId": "bb00e5c4-8b33-4351-a431-a0988c685372",
        "colab": {
          "base_uri": "https://localhost:8080/",
          "height": 34
        }
      },
      "source": [
        "pred_1 = lgb.predict(X_test)"
      ],
      "execution_count": 0,
      "outputs": [
        {
          "output_type": "stream",
          "text": [
            "-0.010659602395452827\n"
          ],
          "name": "stdout"
        }
      ]
    },
    {
      "cell_type": "code",
      "metadata": {
        "id": "3_m5ivmCNAl9",
        "colab_type": "code",
        "outputId": "a5e1355e-edbf-48ca-fabf-06477786d9ab",
        "colab": {
          "base_uri": "https://localhost:8080/",
          "height": 947
        }
      },
      "source": [
        "actual_values = pd.DataFrame({'actual_salary':y_test})\n",
        "actual_values.index = X_test.index\n",
        "\n",
        "actual_values.to_csv(\"Actual_Salaries.csv\", index=False)\n",
        "\n",
        "actual_values"
      ],
      "execution_count": 0,
      "outputs": [
        {
          "output_type": "execute_result",
          "data": {
            "text/html": [
              "<div>\n",
              "<style scoped>\n",
              "    .dataframe tbody tr th:only-of-type {\n",
              "        vertical-align: middle;\n",
              "    }\n",
              "\n",
              "    .dataframe tbody tr th {\n",
              "        vertical-align: top;\n",
              "    }\n",
              "\n",
              "    .dataframe thead th {\n",
              "        text-align: right;\n",
              "    }\n",
              "</style>\n",
              "<table border=\"1\" class=\"dataframe\">\n",
              "  <thead>\n",
              "    <tr style=\"text-align: right;\">\n",
              "      <th></th>\n",
              "      <th>actual_salary</th>\n",
              "    </tr>\n",
              "  </thead>\n",
              "  <tbody>\n",
              "    <tr>\n",
              "      <th>195</th>\n",
              "      <td>275000.0</td>\n",
              "    </tr>\n",
              "    <tr>\n",
              "      <th>171</th>\n",
              "      <td>290000.0</td>\n",
              "    </tr>\n",
              "    <tr>\n",
              "      <th>185</th>\n",
              "      <td>252000.0</td>\n",
              "    </tr>\n",
              "    <tr>\n",
              "      <th>4</th>\n",
              "      <td>425000.0</td>\n",
              "    </tr>\n",
              "    <tr>\n",
              "      <th>178</th>\n",
              "      <td>350000.0</td>\n",
              "    </tr>\n",
              "    <tr>\n",
              "      <th>28</th>\n",
              "      <td>350000.0</td>\n",
              "    </tr>\n",
              "    <tr>\n",
              "      <th>85</th>\n",
              "      <td>400000.0</td>\n",
              "    </tr>\n",
              "    <tr>\n",
              "      <th>88</th>\n",
              "      <td>210000.0</td>\n",
              "    </tr>\n",
              "    <tr>\n",
              "      <th>95</th>\n",
              "      <td>420000.0</td>\n",
              "    </tr>\n",
              "    <tr>\n",
              "      <th>129</th>\n",
              "      <td>250000.0</td>\n",
              "    </tr>\n",
              "    <tr>\n",
              "      <th>199</th>\n",
              "      <td>265000.0</td>\n",
              "    </tr>\n",
              "    <tr>\n",
              "      <th>153</th>\n",
              "      <td>340000.0</td>\n",
              "    </tr>\n",
              "    <tr>\n",
              "      <th>127</th>\n",
              "      <td>250000.0</td>\n",
              "    </tr>\n",
              "    <tr>\n",
              "      <th>19</th>\n",
              "      <td>236000.0</td>\n",
              "    </tr>\n",
              "    <tr>\n",
              "      <th>11</th>\n",
              "      <td>250000.0</td>\n",
              "    </tr>\n",
              "    <tr>\n",
              "      <th>121</th>\n",
              "      <td>250000.0</td>\n",
              "    </tr>\n",
              "    <tr>\n",
              "      <th>1</th>\n",
              "      <td>200000.0</td>\n",
              "    </tr>\n",
              "    <tr>\n",
              "      <th>203</th>\n",
              "      <td>260000.0</td>\n",
              "    </tr>\n",
              "    <tr>\n",
              "      <th>115</th>\n",
              "      <td>216000.0</td>\n",
              "    </tr>\n",
              "    <tr>\n",
              "      <th>104</th>\n",
              "      <td>360000.0</td>\n",
              "    </tr>\n",
              "    <tr>\n",
              "      <th>187</th>\n",
              "      <td>280000.0</td>\n",
              "    </tr>\n",
              "    <tr>\n",
              "      <th>142</th>\n",
              "      <td>260000.0</td>\n",
              "    </tr>\n",
              "    <tr>\n",
              "      <th>35</th>\n",
              "      <td>300000.0</td>\n",
              "    </tr>\n",
              "    <tr>\n",
              "      <th>160</th>\n",
              "      <td>300000.0</td>\n",
              "    </tr>\n",
              "    <tr>\n",
              "      <th>123</th>\n",
              "      <td>240000.0</td>\n",
              "    </tr>\n",
              "    <tr>\n",
              "      <th>89</th>\n",
              "      <td>210000.0</td>\n",
              "    </tr>\n",
              "    <tr>\n",
              "      <th>30</th>\n",
              "      <td>250000.0</td>\n",
              "    </tr>\n",
              "    <tr>\n",
              "      <th>177</th>\n",
              "      <td>650000.0</td>\n",
              "    </tr>\n",
              "    <tr>\n",
              "      <th>90</th>\n",
              "      <td>300000.0</td>\n",
              "    </tr>\n",
              "    <tr>\n",
              "      <th>80</th>\n",
              "      <td>240000.0</td>\n",
              "    </tr>\n",
              "  </tbody>\n",
              "</table>\n",
              "</div>"
            ],
            "text/plain": [
              "     actual_salary\n",
              "195       275000.0\n",
              "171       290000.0\n",
              "185       252000.0\n",
              "4         425000.0\n",
              "178       350000.0\n",
              "28        350000.0\n",
              "85        400000.0\n",
              "88        210000.0\n",
              "95        420000.0\n",
              "129       250000.0\n",
              "199       265000.0\n",
              "153       340000.0\n",
              "127       250000.0\n",
              "19        236000.0\n",
              "11        250000.0\n",
              "121       250000.0\n",
              "1         200000.0\n",
              "203       260000.0\n",
              "115       216000.0\n",
              "104       360000.0\n",
              "187       280000.0\n",
              "142       260000.0\n",
              "35        300000.0\n",
              "160       300000.0\n",
              "123       240000.0\n",
              "89        210000.0\n",
              "30        250000.0\n",
              "177       650000.0\n",
              "90        300000.0\n",
              "80        240000.0"
            ]
          },
          "metadata": {
            "tags": []
          },
          "execution_count": 59
        }
      ]
    },
    {
      "cell_type": "code",
      "metadata": {
        "id": "d5tJs8fPNTZc",
        "colab_type": "code",
        "outputId": "7269748e-aa04-46b4-ab64-2dfd146196a4",
        "colab": {
          "base_uri": "https://localhost:8080/",
          "height": 947
        }
      },
      "source": [
        "\n",
        "model_preds = pd.DataFrame({'predicted_salary':pred_1})\n",
        "model_preds.index = X_test.index\n",
        "\n",
        "model_preds.to_csv(\"Predicted_Salaries.csv\",index=False)\n",
        "\n",
        "model_preds"
      ],
      "execution_count": 0,
      "outputs": [
        {
          "output_type": "execute_result",
          "data": {
            "text/html": [
              "<div>\n",
              "<style scoped>\n",
              "    .dataframe tbody tr th:only-of-type {\n",
              "        vertical-align: middle;\n",
              "    }\n",
              "\n",
              "    .dataframe tbody tr th {\n",
              "        vertical-align: top;\n",
              "    }\n",
              "\n",
              "    .dataframe thead th {\n",
              "        text-align: right;\n",
              "    }\n",
              "</style>\n",
              "<table border=\"1\" class=\"dataframe\">\n",
              "  <thead>\n",
              "    <tr style=\"text-align: right;\">\n",
              "      <th></th>\n",
              "      <th>predicted_salary</th>\n",
              "    </tr>\n",
              "  </thead>\n",
              "  <tbody>\n",
              "    <tr>\n",
              "      <th>195</th>\n",
              "      <td>286790.110170</td>\n",
              "    </tr>\n",
              "    <tr>\n",
              "      <th>171</th>\n",
              "      <td>286799.610169</td>\n",
              "    </tr>\n",
              "    <tr>\n",
              "      <th>185</th>\n",
              "      <td>286799.610169</td>\n",
              "    </tr>\n",
              "    <tr>\n",
              "      <th>4</th>\n",
              "      <td>286792.753027</td>\n",
              "    </tr>\n",
              "    <tr>\n",
              "      <th>178</th>\n",
              "      <td>286798.410169</td>\n",
              "    </tr>\n",
              "    <tr>\n",
              "      <th>28</th>\n",
              "      <td>286791.210170</td>\n",
              "    </tr>\n",
              "    <tr>\n",
              "      <th>85</th>\n",
              "      <td>286799.610169</td>\n",
              "    </tr>\n",
              "    <tr>\n",
              "      <th>88</th>\n",
              "      <td>286798.410169</td>\n",
              "    </tr>\n",
              "    <tr>\n",
              "      <th>95</th>\n",
              "      <td>286791.210170</td>\n",
              "    </tr>\n",
              "    <tr>\n",
              "      <th>129</th>\n",
              "      <td>286791.210170</td>\n",
              "    </tr>\n",
              "    <tr>\n",
              "      <th>199</th>\n",
              "      <td>286792.753027</td>\n",
              "    </tr>\n",
              "    <tr>\n",
              "      <th>153</th>\n",
              "      <td>286798.410169</td>\n",
              "    </tr>\n",
              "    <tr>\n",
              "      <th>127</th>\n",
              "      <td>286790.110170</td>\n",
              "    </tr>\n",
              "    <tr>\n",
              "      <th>19</th>\n",
              "      <td>286798.410169</td>\n",
              "    </tr>\n",
              "    <tr>\n",
              "      <th>11</th>\n",
              "      <td>286798.410169</td>\n",
              "    </tr>\n",
              "    <tr>\n",
              "      <th>121</th>\n",
              "      <td>286798.410169</td>\n",
              "    </tr>\n",
              "    <tr>\n",
              "      <th>1</th>\n",
              "      <td>286799.610169</td>\n",
              "    </tr>\n",
              "    <tr>\n",
              "      <th>203</th>\n",
              "      <td>286790.110170</td>\n",
              "    </tr>\n",
              "    <tr>\n",
              "      <th>115</th>\n",
              "      <td>286790.110170</td>\n",
              "    </tr>\n",
              "    <tr>\n",
              "      <th>104</th>\n",
              "      <td>286790.110170</td>\n",
              "    </tr>\n",
              "    <tr>\n",
              "      <th>187</th>\n",
              "      <td>286799.610169</td>\n",
              "    </tr>\n",
              "    <tr>\n",
              "      <th>142</th>\n",
              "      <td>286790.110170</td>\n",
              "    </tr>\n",
              "    <tr>\n",
              "      <th>35</th>\n",
              "      <td>286791.210170</td>\n",
              "    </tr>\n",
              "    <tr>\n",
              "      <th>160</th>\n",
              "      <td>286799.610169</td>\n",
              "    </tr>\n",
              "    <tr>\n",
              "      <th>123</th>\n",
              "      <td>286790.110170</td>\n",
              "    </tr>\n",
              "    <tr>\n",
              "      <th>89</th>\n",
              "      <td>286799.610169</td>\n",
              "    </tr>\n",
              "    <tr>\n",
              "      <th>30</th>\n",
              "      <td>286790.110170</td>\n",
              "    </tr>\n",
              "    <tr>\n",
              "      <th>177</th>\n",
              "      <td>286791.210170</td>\n",
              "    </tr>\n",
              "    <tr>\n",
              "      <th>90</th>\n",
              "      <td>286799.610169</td>\n",
              "    </tr>\n",
              "    <tr>\n",
              "      <th>80</th>\n",
              "      <td>286798.410169</td>\n",
              "    </tr>\n",
              "  </tbody>\n",
              "</table>\n",
              "</div>"
            ],
            "text/plain": [
              "     predicted_salary\n",
              "195     286790.110170\n",
              "171     286799.610169\n",
              "185     286799.610169\n",
              "4       286792.753027\n",
              "178     286798.410169\n",
              "28      286791.210170\n",
              "85      286799.610169\n",
              "88      286798.410169\n",
              "95      286791.210170\n",
              "129     286791.210170\n",
              "199     286792.753027\n",
              "153     286798.410169\n",
              "127     286790.110170\n",
              "19      286798.410169\n",
              "11      286798.410169\n",
              "121     286798.410169\n",
              "1       286799.610169\n",
              "203     286790.110170\n",
              "115     286790.110170\n",
              "104     286790.110170\n",
              "187     286799.610169\n",
              "142     286790.110170\n",
              "35      286791.210170\n",
              "160     286799.610169\n",
              "123     286790.110170\n",
              "89      286799.610169\n",
              "30      286790.110170\n",
              "177     286791.210170\n",
              "90      286799.610169\n",
              "80      286798.410169"
            ]
          },
          "metadata": {
            "tags": []
          },
          "execution_count": 60
        }
      ]
    },
    {
      "cell_type": "code",
      "metadata": {
        "id": "L-nyUUOS2irl",
        "colab_type": "code",
        "outputId": "84bd640a-1139-418b-d627-c5848baec7aa",
        "colab": {
          "base_uri": "https://localhost:8080/",
          "height": 141
        }
      },
      "source": [
        "Rf.fit(X_train,y_train)"
      ],
      "execution_count": 0,
      "outputs": [
        {
          "output_type": "execute_result",
          "data": {
            "text/plain": [
              "RandomForestRegressor(bootstrap=True, ccp_alpha=0.0, criterion='mse',\n",
              "                      max_depth=None, max_features='auto', max_leaf_nodes=None,\n",
              "                      max_samples=None, min_impurity_decrease=0.0,\n",
              "                      min_impurity_split=None, min_samples_leaf=1,\n",
              "                      min_samples_split=2, min_weight_fraction_leaf=0.0,\n",
              "                      n_estimators=1000, n_jobs=None, oob_score=False,\n",
              "                      random_state=None, verbose=0, warm_start=False)"
            ]
          },
          "metadata": {
            "tags": []
          },
          "execution_count": 62
        }
      ]
    },
    {
      "cell_type": "code",
      "metadata": {
        "id": "E-F2zTAPTKXK",
        "colab_type": "code",
        "colab": {}
      },
      "source": [
        "pred_2 = Rf.predict(X_test)"
      ],
      "execution_count": 0,
      "outputs": []
    },
    {
      "cell_type": "code",
      "metadata": {
        "id": "FL4ZLnuGSdcf",
        "colab_type": "code",
        "outputId": "1347be76-6de6-4dd2-da3a-77a49aa58ef3",
        "colab": {
          "base_uri": "https://localhost:8080/",
          "height": 947
        }
      },
      "source": [
        "\n",
        "model_preds = pd.DataFrame({'predicted_salary':pred_2})\n",
        "model_preds.index = X_test.index\n",
        "\n",
        "model_preds.to_csv(\"Predicted_Salaries.csv\",index=False)\n",
        "\n",
        "model_preds"
      ],
      "execution_count": 0,
      "outputs": [
        {
          "output_type": "execute_result",
          "data": {
            "text/html": [
              "<div>\n",
              "<style scoped>\n",
              "    .dataframe tbody tr th:only-of-type {\n",
              "        vertical-align: middle;\n",
              "    }\n",
              "\n",
              "    .dataframe tbody tr th {\n",
              "        vertical-align: top;\n",
              "    }\n",
              "\n",
              "    .dataframe thead th {\n",
              "        text-align: right;\n",
              "    }\n",
              "</style>\n",
              "<table border=\"1\" class=\"dataframe\">\n",
              "  <thead>\n",
              "    <tr style=\"text-align: right;\">\n",
              "      <th></th>\n",
              "      <th>predicted_salary</th>\n",
              "    </tr>\n",
              "  </thead>\n",
              "  <tbody>\n",
              "    <tr>\n",
              "      <th>195</th>\n",
              "      <td>264983.0</td>\n",
              "    </tr>\n",
              "    <tr>\n",
              "      <th>171</th>\n",
              "      <td>300707.0</td>\n",
              "    </tr>\n",
              "    <tr>\n",
              "      <th>185</th>\n",
              "      <td>299196.0</td>\n",
              "    </tr>\n",
              "    <tr>\n",
              "      <th>4</th>\n",
              "      <td>268078.0</td>\n",
              "    </tr>\n",
              "    <tr>\n",
              "      <th>178</th>\n",
              "      <td>334034.0</td>\n",
              "    </tr>\n",
              "    <tr>\n",
              "      <th>28</th>\n",
              "      <td>277530.0</td>\n",
              "    </tr>\n",
              "    <tr>\n",
              "      <th>85</th>\n",
              "      <td>346194.0</td>\n",
              "    </tr>\n",
              "    <tr>\n",
              "      <th>88</th>\n",
              "      <td>277974.0</td>\n",
              "    </tr>\n",
              "    <tr>\n",
              "      <th>95</th>\n",
              "      <td>284107.0</td>\n",
              "    </tr>\n",
              "    <tr>\n",
              "      <th>129</th>\n",
              "      <td>260545.0</td>\n",
              "    </tr>\n",
              "    <tr>\n",
              "      <th>199</th>\n",
              "      <td>252356.0</td>\n",
              "    </tr>\n",
              "    <tr>\n",
              "      <th>153</th>\n",
              "      <td>468204.0</td>\n",
              "    </tr>\n",
              "    <tr>\n",
              "      <th>127</th>\n",
              "      <td>256260.0</td>\n",
              "    </tr>\n",
              "    <tr>\n",
              "      <th>19</th>\n",
              "      <td>478787.0</td>\n",
              "    </tr>\n",
              "    <tr>\n",
              "      <th>11</th>\n",
              "      <td>296732.0</td>\n",
              "    </tr>\n",
              "    <tr>\n",
              "      <th>121</th>\n",
              "      <td>333981.0</td>\n",
              "    </tr>\n",
              "    <tr>\n",
              "      <th>1</th>\n",
              "      <td>293858.0</td>\n",
              "    </tr>\n",
              "    <tr>\n",
              "      <th>203</th>\n",
              "      <td>250655.0</td>\n",
              "    </tr>\n",
              "    <tr>\n",
              "      <th>115</th>\n",
              "      <td>276339.0</td>\n",
              "    </tr>\n",
              "    <tr>\n",
              "      <th>104</th>\n",
              "      <td>257140.0</td>\n",
              "    </tr>\n",
              "    <tr>\n",
              "      <th>187</th>\n",
              "      <td>287761.0</td>\n",
              "    </tr>\n",
              "    <tr>\n",
              "      <th>142</th>\n",
              "      <td>278723.0</td>\n",
              "    </tr>\n",
              "    <tr>\n",
              "      <th>35</th>\n",
              "      <td>274090.0</td>\n",
              "    </tr>\n",
              "    <tr>\n",
              "      <th>160</th>\n",
              "      <td>323391.0</td>\n",
              "    </tr>\n",
              "    <tr>\n",
              "      <th>123</th>\n",
              "      <td>305776.0</td>\n",
              "    </tr>\n",
              "    <tr>\n",
              "      <th>89</th>\n",
              "      <td>281167.0</td>\n",
              "    </tr>\n",
              "    <tr>\n",
              "      <th>30</th>\n",
              "      <td>280357.0</td>\n",
              "    </tr>\n",
              "    <tr>\n",
              "      <th>177</th>\n",
              "      <td>280978.0</td>\n",
              "    </tr>\n",
              "    <tr>\n",
              "      <th>90</th>\n",
              "      <td>258608.0</td>\n",
              "    </tr>\n",
              "    <tr>\n",
              "      <th>80</th>\n",
              "      <td>273588.0</td>\n",
              "    </tr>\n",
              "  </tbody>\n",
              "</table>\n",
              "</div>"
            ],
            "text/plain": [
              "     predicted_salary\n",
              "195          264983.0\n",
              "171          300707.0\n",
              "185          299196.0\n",
              "4            268078.0\n",
              "178          334034.0\n",
              "28           277530.0\n",
              "85           346194.0\n",
              "88           277974.0\n",
              "95           284107.0\n",
              "129          260545.0\n",
              "199          252356.0\n",
              "153          468204.0\n",
              "127          256260.0\n",
              "19           478787.0\n",
              "11           296732.0\n",
              "121          333981.0\n",
              "1            293858.0\n",
              "203          250655.0\n",
              "115          276339.0\n",
              "104          257140.0\n",
              "187          287761.0\n",
              "142          278723.0\n",
              "35           274090.0\n",
              "160          323391.0\n",
              "123          305776.0\n",
              "89           281167.0\n",
              "30           280357.0\n",
              "177          280978.0\n",
              "90           258608.0\n",
              "80           273588.0"
            ]
          },
          "metadata": {
            "tags": []
          },
          "execution_count": 64
        }
      ]
    },
    {
      "cell_type": "code",
      "metadata": {
        "id": "eatl7T1rTRBO",
        "colab_type": "code",
        "outputId": "9b851353-0555-4c8e-c684-122233f17eac",
        "colab": {
          "base_uri": "https://localhost:8080/",
          "height": 34
        }
      },
      "source": [
        "xgb.fit(X_train,y_train)\n",
        "ped_3=xgb.predict(X_test)"
      ],
      "execution_count": 0,
      "outputs": [
        {
          "output_type": "stream",
          "text": [
            "[12:15:41] WARNING: /workspace/src/objective/regression_obj.cu:152: reg:linear is now deprecated in favor of reg:squarederror.\n"
          ],
          "name": "stdout"
        }
      ]
    },
    {
      "cell_type": "code",
      "metadata": {
        "id": "imxrfNZaToXt",
        "colab_type": "code",
        "outputId": "e5044afc-5140-4852-d285-404a75c2fabd",
        "colab": {
          "base_uri": "https://localhost:8080/",
          "height": 947
        }
      },
      "source": [
        "\n",
        "model_preds = pd.DataFrame({'predicted_salary':ped_3})\n",
        "model_preds.index = X_test.index\n",
        "\n",
        "model_preds.to_csv(\"Predicted_Salaries.csv\",index=False)\n",
        "\n",
        "model_preds"
      ],
      "execution_count": 0,
      "outputs": [
        {
          "output_type": "execute_result",
          "data": {
            "text/html": [
              "<div>\n",
              "<style scoped>\n",
              "    .dataframe tbody tr th:only-of-type {\n",
              "        vertical-align: middle;\n",
              "    }\n",
              "\n",
              "    .dataframe tbody tr th {\n",
              "        vertical-align: top;\n",
              "    }\n",
              "\n",
              "    .dataframe thead th {\n",
              "        text-align: right;\n",
              "    }\n",
              "</style>\n",
              "<table border=\"1\" class=\"dataframe\">\n",
              "  <thead>\n",
              "    <tr style=\"text-align: right;\">\n",
              "      <th></th>\n",
              "      <th>predicted_salary</th>\n",
              "    </tr>\n",
              "  </thead>\n",
              "  <tbody>\n",
              "    <tr>\n",
              "      <th>195</th>\n",
              "      <td>273222.750000</td>\n",
              "    </tr>\n",
              "    <tr>\n",
              "      <th>171</th>\n",
              "      <td>276384.812500</td>\n",
              "    </tr>\n",
              "    <tr>\n",
              "      <th>185</th>\n",
              "      <td>326138.031250</td>\n",
              "    </tr>\n",
              "    <tr>\n",
              "      <th>4</th>\n",
              "      <td>248441.296875</td>\n",
              "    </tr>\n",
              "    <tr>\n",
              "      <th>178</th>\n",
              "      <td>393220.843750</td>\n",
              "    </tr>\n",
              "    <tr>\n",
              "      <th>28</th>\n",
              "      <td>275364.843750</td>\n",
              "    </tr>\n",
              "    <tr>\n",
              "      <th>85</th>\n",
              "      <td>330602.500000</td>\n",
              "    </tr>\n",
              "    <tr>\n",
              "      <th>88</th>\n",
              "      <td>289980.593750</td>\n",
              "    </tr>\n",
              "    <tr>\n",
              "      <th>95</th>\n",
              "      <td>307296.343750</td>\n",
              "    </tr>\n",
              "    <tr>\n",
              "      <th>129</th>\n",
              "      <td>264892.250000</td>\n",
              "    </tr>\n",
              "    <tr>\n",
              "      <th>199</th>\n",
              "      <td>250982.953125</td>\n",
              "    </tr>\n",
              "    <tr>\n",
              "      <th>153</th>\n",
              "      <td>553839.687500</td>\n",
              "    </tr>\n",
              "    <tr>\n",
              "      <th>127</th>\n",
              "      <td>233840.265625</td>\n",
              "    </tr>\n",
              "    <tr>\n",
              "      <th>19</th>\n",
              "      <td>549074.875000</td>\n",
              "    </tr>\n",
              "    <tr>\n",
              "      <th>11</th>\n",
              "      <td>280021.562500</td>\n",
              "    </tr>\n",
              "    <tr>\n",
              "      <th>121</th>\n",
              "      <td>376360.281250</td>\n",
              "    </tr>\n",
              "    <tr>\n",
              "      <th>1</th>\n",
              "      <td>277254.125000</td>\n",
              "    </tr>\n",
              "    <tr>\n",
              "      <th>203</th>\n",
              "      <td>233297.875000</td>\n",
              "    </tr>\n",
              "    <tr>\n",
              "      <th>115</th>\n",
              "      <td>262261.750000</td>\n",
              "    </tr>\n",
              "    <tr>\n",
              "      <th>104</th>\n",
              "      <td>264157.312500</td>\n",
              "    </tr>\n",
              "    <tr>\n",
              "      <th>187</th>\n",
              "      <td>279445.875000</td>\n",
              "    </tr>\n",
              "    <tr>\n",
              "      <th>142</th>\n",
              "      <td>251878.359375</td>\n",
              "    </tr>\n",
              "    <tr>\n",
              "      <th>35</th>\n",
              "      <td>278221.187500</td>\n",
              "    </tr>\n",
              "    <tr>\n",
              "      <th>160</th>\n",
              "      <td>336470.562500</td>\n",
              "    </tr>\n",
              "    <tr>\n",
              "      <th>123</th>\n",
              "      <td>237190.593750</td>\n",
              "    </tr>\n",
              "    <tr>\n",
              "      <th>89</th>\n",
              "      <td>262872.718750</td>\n",
              "    </tr>\n",
              "    <tr>\n",
              "      <th>30</th>\n",
              "      <td>287027.562500</td>\n",
              "    </tr>\n",
              "    <tr>\n",
              "      <th>177</th>\n",
              "      <td>279612.187500</td>\n",
              "    </tr>\n",
              "    <tr>\n",
              "      <th>90</th>\n",
              "      <td>250081.328125</td>\n",
              "    </tr>\n",
              "    <tr>\n",
              "      <th>80</th>\n",
              "      <td>267228.062500</td>\n",
              "    </tr>\n",
              "  </tbody>\n",
              "</table>\n",
              "</div>"
            ],
            "text/plain": [
              "     predicted_salary\n",
              "195     273222.750000\n",
              "171     276384.812500\n",
              "185     326138.031250\n",
              "4       248441.296875\n",
              "178     393220.843750\n",
              "28      275364.843750\n",
              "85      330602.500000\n",
              "88      289980.593750\n",
              "95      307296.343750\n",
              "129     264892.250000\n",
              "199     250982.953125\n",
              "153     553839.687500\n",
              "127     233840.265625\n",
              "19      549074.875000\n",
              "11      280021.562500\n",
              "121     376360.281250\n",
              "1       277254.125000\n",
              "203     233297.875000\n",
              "115     262261.750000\n",
              "104     264157.312500\n",
              "187     279445.875000\n",
              "142     251878.359375\n",
              "35      278221.187500\n",
              "160     336470.562500\n",
              "123     237190.593750\n",
              "89      262872.718750\n",
              "30      287027.562500\n",
              "177     279612.187500\n",
              "90      250081.328125\n",
              "80      267228.062500"
            ]
          },
          "metadata": {
            "tags": []
          },
          "execution_count": 67
        }
      ]
    },
    {
      "cell_type": "code",
      "metadata": {
        "id": "APU0jVLuT4UW",
        "colab_type": "code",
        "colab": {}
      },
      "source": [
        ""
      ],
      "execution_count": 0,
      "outputs": []
    }
  ]
}